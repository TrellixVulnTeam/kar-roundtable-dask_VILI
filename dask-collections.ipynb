{
 "cells": [
  {
   "cell_type": "markdown",
   "id": "8b598cf5-4995-4c02-9237-03b38848bb8f",
   "metadata": {},
   "source": [
    "<img src=\"assets/dask_horizontal.svg\"\n",
    "     width=\"45%\"\n",
    "     alt=\"Dask logo\\\">\n",
    "     \n",
    "# Parallel Computing in Python with Dask\n",
    "\n",
    "This notebook provides a high-level overview of Dask. We discuss why you might want to use Dask, the high-level and low-level APIs for generating computational graphs, and the schedulers which allow for the parallel execution of these graphs."
   ]
  },
  {
   "cell_type": "markdown",
   "id": "305e71dc-d11c-4e87-946c-cf7152634128",
   "metadata": {},
   "source": [
    "# Overview\n",
    "\n",
    "### What is Dask?\n",
    "\n",
    "- Dask is a flexible, open source library for parallel computing in Python\n",
    "\n",
    "    - GitHub: [https://github.com/dask/dask](https://github.com/dask/dask)\n",
    "    \n",
    "    - Documentation: [https://docs.dask.org](https://docs.dask.org)\n",
    "\n",
    "- Scales the existing Python ecosystem\n",
    "\n",
    "### Why Dask?\n",
    "\n",
    "- Enables parallel and larger-than-memory computations\n",
    "- Uses familiar APIs you're used to from projects like NumPy, pandas, and scikit-learn\n",
    "- Allows you to scale existing workflows with minimal code changes\n",
    "- Dask works on your laptop, but also scales out to large clusters\n",
    "- Offers great built-in diagnosic tools\n",
    "\n",
    "### Dask vs. Spark\n",
    "\n",
    "#### Reasons you might choose Spark\n",
    "\n",
    "- You prefer Scala or the SQL language\n",
    "- You have mostly JVM infrastructure and legacy systems\n",
    "- You want an established and trusted solution for business\n",
    "- You are mostly doing business analytics with some lightweight machine learning\n",
    "- You want an all-in-one solution\n",
    "\n",
    "#### Reasons you might choose Dask\n",
    "\n",
    "- You prefer Python or native code, or have large legacy code bases that you do not want to entirely rewrite\n",
    "- Your use case is complex or does not cleanly fit the Spark computing model\n",
    "- You want a lighter-weight transition from local computing to cluster computing\n",
    "- You want to interoperate with other technologies and don’t mind installing multiple packages\n",
    "\n",
    "### Components of Dask\n",
    "\n",
    "<img src=\"assets/dask-overview.png\"\n",
    "     width=\"85%\"\n",
    "     alt=\"Dask components\\\">\n",
    "     "
   ]
  },
  {
   "cell_type": "markdown",
   "id": "aac76a8f-824f-4a11-8e36-1a6981504d7a",
   "metadata": {},
   "source": [
    "# Parallelize code with `dask.delayed`\n",
    "\n",
    "In this section we parallelize simple for-loop style code with Dask and `dask.delayed`. Often, this is the only function that you will need to convert functions for use with Dask.\n",
    "\n",
    "This is a simple way to use `dask` to parallelize existing codebases or build [complex systems](https://blog.dask.org/2018/02/09/credit-models-with-dask).  This will also help us to develop an understanding for later sections.\n",
    "\n",
    "**Related Documentation**\n",
    "\n",
    "* [Delayed documentation](https://docs.dask.org/en/latest/delayed.html)\n",
    "* [Delayed screencast](https://www.youtube.com/watch?v=SHqFmynRxVU)\n",
    "* [Delayed API](https://docs.dask.org/en/latest/delayed-api.html)\n",
    "* [Delayed examples](https://examples.dask.org/delayed.html)\n",
    "* [Delayed best practices](https://docs.dask.org/en/latest/delayed-best-practices.html)"
   ]
  },
  {
   "cell_type": "markdown",
   "id": "256d2633-c71b-4576-88d2-71da0b414e7d",
   "metadata": {},
   "source": [
    "Dask has several ways of executing code in parallel. We'll use the distributed scheduler by creating a `dask.distributed.Client`. For now, this will provide us with some nice diagnostics. We'll talk about schedulers in depth later."
   ]
  },
  {
   "cell_type": "code",
   "execution_count": 1,
   "id": "de1924e7-17e6-4377-b616-75d924ce46ef",
   "metadata": {},
   "outputs": [
    {
     "data": {
      "text/html": [
       "<table style=\"border: 2px solid white;\">\n",
       "<tr>\n",
       "<td style=\"vertical-align: top; border: 0px solid white\">\n",
       "<h3 style=\"text-align: left;\">Client</h3>\n",
       "<ul style=\"text-align: left; list-style: none; margin: 0; padding: 0;\">\n",
       "  <li><b>Scheduler: </b>tcp://127.0.0.1:61883</li>\n",
       "  <li><b>Dashboard: </b><a href='http://127.0.0.1:8787/status' target='_blank'>http://127.0.0.1:8787/status</a></li>\n",
       "</ul>\n",
       "</td>\n",
       "<td style=\"vertical-align: top; border: 0px solid white\">\n",
       "<h3 style=\"text-align: left;\">Cluster</h3>\n",
       "<ul style=\"text-align: left; list-style:none; margin: 0; padding: 0;\">\n",
       "  <li><b>Workers: </b>4</li>\n",
       "  <li><b>Cores: </b>16</li>\n",
       "  <li><b>Memory: </b>16.00 GiB</li>\n",
       "</ul>\n",
       "</td>\n",
       "</tr>\n",
       "</table>"
      ],
      "text/plain": [
       "<Client: 'tcp://127.0.0.1:61883' processes=4 threads=16, memory=16.00 GiB>"
      ]
     },
     "execution_count": 1,
     "metadata": {},
     "output_type": "execute_result"
    }
   ],
   "source": [
    "from dask.distributed import Client\n",
    "\n",
    "client = Client(n_workers=4)\n",
    "client"
   ]
  },
  {
   "cell_type": "markdown",
   "id": "383281da-5a83-45b7-b969-964a3ce3858e",
   "metadata": {},
   "source": [
    "First let's make some toy functions, `inc` and `add`, that sleep for a while to simulate work. We'll then time running these functions normally."
   ]
  },
  {
   "cell_type": "code",
   "execution_count": 2,
   "id": "3c8f0db8-f98a-444b-9e47-25b298dd3fb4",
   "metadata": {},
   "outputs": [],
   "source": [
    "from time import sleep\n",
    "\n",
    "def inc(x):\n",
    "    sleep(1)\n",
    "    return x + 1\n",
    "\n",
    "def add(x, y):\n",
    "    sleep(1)\n",
    "    return x + y"
   ]
  },
  {
   "cell_type": "code",
   "execution_count": 3,
   "id": "f8b5fd8b-8347-4036-883b-d692af3d30f2",
   "metadata": {},
   "outputs": [
    {
     "name": "stdout",
     "output_type": "stream",
     "text": [
      "CPU times: user 285 ms, sys: 25.2 ms, total: 310 ms\n",
      "Wall time: 3.01 s\n"
     ]
    }
   ],
   "source": [
    "%%time\n",
    "# This takes three seconds to run because we call each\n",
    "# function sequentially, one after the other\n",
    "\n",
    "x = inc(1)\n",
    "y = inc(2)\n",
    "z = add(x, y)"
   ]
  },
  {
   "cell_type": "markdown",
   "id": "237bc721-3b5b-4215-8323-2376bdff95ea",
   "metadata": {},
   "source": [
    "### Parallelize with the `dask.delayed` decorator\n",
    "\n",
    "Those two increment calls *could* be called in parallel, because they are totally independent of one-another.\n",
    "\n",
    "We'll transform the `inc` and `add` functions using the `dask.delayed` function. When we call the delayed version by passing the arguments, exactly as before, the original function isn't actually called yet - which is why the cell execution finishes very quickly.\n",
    "Instead, a *delayed object* is made, which keeps track of the function to call and the arguments to pass to it.\n"
   ]
  },
  {
   "cell_type": "code",
   "execution_count": 4,
   "id": "ff175cfa-05b8-4ca8-ad9c-fa61d8d64282",
   "metadata": {},
   "outputs": [],
   "source": [
    "from dask import delayed"
   ]
  },
  {
   "cell_type": "code",
   "execution_count": 5,
   "id": "bca4f2a1-3455-40a3-a884-a7745089525c",
   "metadata": {},
   "outputs": [
    {
     "name": "stdout",
     "output_type": "stream",
     "text": [
      "CPU times: user 377 µs, sys: 106 µs, total: 483 µs\n",
      "Wall time: 443 µs\n"
     ]
    }
   ],
   "source": [
    "%%time\n",
    "# This runs immediately, all it does is build a graph\n",
    "\n",
    "x = delayed(inc)(1)\n",
    "y = delayed(inc)(2)\n",
    "z = delayed(add)(x, y)"
   ]
  },
  {
   "cell_type": "markdown",
   "id": "ea4ae2ec-ead6-4f5a-8f28-ff77259b3f7a",
   "metadata": {},
   "source": [
    "This ran immediately, since nothing has really happened yet.\n",
    "\n",
    "To get the result, call `compute`. Notice that this runs faster than the original code."
   ]
  },
  {
   "cell_type": "code",
   "execution_count": 6,
   "id": "ce42f5e0-c905-452f-a754-3f3930d782f9",
   "metadata": {},
   "outputs": [
    {
     "name": "stdout",
     "output_type": "stream",
     "text": [
      "CPU times: user 239 ms, sys: 19.1 ms, total: 258 ms\n",
      "Wall time: 2.03 s\n"
     ]
    },
    {
     "data": {
      "text/plain": [
       "5"
      ]
     },
     "execution_count": 6,
     "metadata": {},
     "output_type": "execute_result"
    }
   ],
   "source": [
    "%%time\n",
    "# This actually runs our computation using a local thread pool\n",
    "\n",
    "z.compute()"
   ]
  },
  {
   "cell_type": "code",
   "execution_count": 7,
   "id": "5489fc46-ea01-4bec-9a11-702c9f0f2e04",
   "metadata": {},
   "outputs": [
    {
     "data": {
      "image/png": "[encoded data removed]",
      "text/plain": [
       "<IPython.core.display.Image object>"
      ]
     },
     "execution_count": 7,
     "metadata": {},
     "output_type": "execute_result"
    }
   ],
   "source": [
    "# Look at the task graph for `z`\n",
    "z.visualize()"
   ]
  },
  {
   "cell_type": "markdown",
   "id": "0c4bba1a-14d1-4df7-849d-750251605535",
   "metadata": {},
   "source": [
    "### More complex calculation\n",
    "\n",
    "To visualize how graphs can be optimally or sub-optimally built, let's look at a more complex example."
   ]
  },
  {
   "cell_type": "code",
   "execution_count": 8,
   "id": "16d7bcad-51f9-4d4a-8dda-16b8beae7208",
   "metadata": {},
   "outputs": [],
   "source": [
    "def double(x):\n",
    "    sleep(1)\n",
    "    return 2 * x\n",
    "\n",
    "def is_even(x):\n",
    "    return not x % 2\n",
    "\n",
    "data = [1, 2, 3, 4, 5, 6, 7, 8, 9, 10]"
   ]
  },
  {
   "cell_type": "code",
   "execution_count": 9,
   "id": "a28fd380-c6d5-42a6-ae6a-c556c1ec5c67",
   "metadata": {},
   "outputs": [
    {
     "name": "stdout",
     "output_type": "stream",
     "text": [
      "CPU times: user 1.38 s, sys: 83.6 ms, total: 1.47 s\n",
      "Wall time: 10 s\n"
     ]
    },
    {
     "data": {
      "text/plain": [
       "90"
      ]
     },
     "execution_count": 9,
     "metadata": {},
     "output_type": "execute_result"
    }
   ],
   "source": [
    "%%time\n",
    "# Sequential code\n",
    "\n",
    "results = []\n",
    "for x in data:\n",
    "    if is_even(x):\n",
    "        y = double(x)\n",
    "    else:\n",
    "        y = inc(x)\n",
    "    results.append(y)\n",
    "    \n",
    "total = sum(results)\n",
    "total"
   ]
  },
  {
   "cell_type": "code",
   "execution_count": 10,
   "id": "2937afd0-ed7a-4489-a40e-8b373ca88134",
   "metadata": {},
   "outputs": [
    {
     "name": "stdout",
     "output_type": "stream",
     "text": [
      "CPU times: user 281 ms, sys: 15.5 ms, total: 296 ms\n",
      "Wall time: 1.07 s\n"
     ]
    },
    {
     "data": {
      "text/plain": [
       "90"
      ]
     },
     "execution_count": 10,
     "metadata": {},
     "output_type": "execute_result"
    }
   ],
   "source": [
    "%%time\n",
    "# Parallel code -- notice I moved the `delayed` to decorators\n",
    "\n",
    "@delayed\n",
    "def inc(x):\n",
    "    sleep(1)\n",
    "    return x + 1\n",
    "\n",
    "@delayed\n",
    "def double(x):\n",
    "    sleep(1)\n",
    "    return 2 * x\n",
    "\n",
    "def is_even(x):\n",
    "    return not x % 2\n",
    "\n",
    "data = [1, 2, 3, 4, 5, 6, 7, 8, 9, 10]\n",
    "\n",
    "results = []\n",
    "for x in data:\n",
    "    if is_even(x):\n",
    "        y = double(x)\n",
    "    else:\n",
    "        y = inc(x)\n",
    "    results.append(y)\n",
    "    \n",
    "total = delayed(sum)(results)\n",
    "total.compute()"
   ]
  },
  {
   "cell_type": "code",
   "execution_count": 11,
   "id": "a2210af8-89e2-42d6-a5c5-78ad6c0427df",
   "metadata": {},
   "outputs": [
    {
     "data": {
      "image/png": "[encoded data removed]",
      "text/plain": [
       "<IPython.core.display.Image object>"
      ]
     },
     "execution_count": 11,
     "metadata": {},
     "output_type": "execute_result"
    }
   ],
   "source": [
    "total.visualize()"
   ]
  },
  {
   "cell_type": "markdown",
   "id": "dbd2d207-c0d5-4d16-9073-260f56aa6389",
   "metadata": {},
   "source": [
    "### Why should you care about this?\n",
    "\n",
    "By building a specification of the calculation we want to carry out before executing anything, we can pass the specification to an *execution engine* for evaluation. In the case of Dask, this execution engine could be running on many nodes of a cluster, so you have access to the full number of CPU cores and memory across all the machines. Dask will intelligently execute your calculation with care for minimizing the amount of data held in memory, while parallelizing over the tasks that make up a graph. Notice that in the animated diagram below, where four workers are processing the (simple) graph, execution progresses vertically up the branches first, so that intermediate results can be expunged before moving onto a new branch.\n",
    "\n",
    "With `delayed` and normal pythonic looped code, very complex graphs can be built up and passed on to Dask for execution. See a nice example of [simulated complex ETL](https://blog.dask.org/2017/01/24/dask-custom) work flow.\n",
    "\n",
    "![this](assets/animation.gif)"
   ]
  },
  {
   "cell_type": "code",
   "execution_count": 12,
   "id": "822a44cf-dcbd-4d9f-9b99-afe6a6c37bc9",
   "metadata": {},
   "outputs": [],
   "source": [
    "client.shutdown()"
   ]
  },
  {
   "cell_type": "markdown",
   "id": "21000fcb-54a7-41c6-8a64-8e9a40074b58",
   "metadata": {},
   "source": [
    "# Bag: Parallel Lists for semi-structured data\n",
    "\n",
    "Dask-bag excels in processing data that can be represented as a sequence of arbitrary inputs. We'll refer to this as \"messy\" data, because it can contain complex nested structures, missing fields, mixtures of data types, etc. The *functional* programming style fits very nicely with standard Python iteration, such as can be found in the `itertools` module.\n",
    "\n",
    "Messy data is often encountered at the beginning of data processing pipelines when large volumes of raw data are first consumed. The initial set of data might be JSON, CSV, XML, or any other format that does not enforce strict structure and datatypes.\n",
    "For this reason, the initial data massaging and processing is often done with Python `list`s, `dict`s, and `set`s.\n",
    "\n",
    "These core data structures are optimized for general-purpose storage and processing.  Adding streaming computation with iterators/generator expressions or libraries like `itertools` or [`toolz`](https://toolz.readthedocs.io/en/latest/) let us process large volumes in a small space.  If we combine this with parallel processing then we can churn through a fair amount of data.\n",
    "\n",
    "Dask.bag is a high level Dask collection to automate common workloads of this form.  In a nutshell\n",
    "\n",
    "    dask.bag = map, filter, toolz + parallel execution\n",
    "    \n",
    "**Related Documentation**\n",
    "\n",
    "* [Bag documentation](https://docs.dask.org/en/latest/bag.html)\n",
    "* [Bag screencast](https://youtu.be/-qIiJ1XtSv0)\n",
    "* [Bag API](https://docs.dask.org/en/latest/bag-api.html)\n",
    "* [Bag examples](https://examples.dask.org/bag.html)"
   ]
  },
  {
   "cell_type": "markdown",
   "id": "9d45987b-077b-468d-9457-7216e3541167",
   "metadata": {},
   "source": [
    "### Create Data"
   ]
  },
  {
   "cell_type": "code",
   "execution_count": 13,
   "id": "eedb5ffc-7f12-4ff1-9f68-4e0a095fde1a",
   "metadata": {},
   "outputs": [
    {
     "name": "stderr",
     "output_type": "stream",
     "text": [
      "distributed.client - ERROR - Failed to reconnect to scheduler after 10.00 seconds, closing client\n",
      "_GatheringFuture exception was never retrieved\n",
      "future: <_GatheringFuture finished exception=CancelledError()>\n",
      "asyncio.exceptions.CancelledError\n"
     ]
    },
    {
     "name": "stdout",
     "output_type": "stream",
     "text": [
      "Created CSV acccouts in 4.01s\n",
      "Created JSON acccouts in 34.98s\n"
     ]
    }
   ],
   "source": [
    "%run prep.py -d accounts"
   ]
  },
  {
   "cell_type": "code",
   "execution_count": 14,
   "id": "adffea1f-7433-49e4-a35e-d7a1dbf2a8c5",
   "metadata": {},
   "outputs": [],
   "source": [
    "from dask.distributed import Client\n",
    "\n",
    "client = Client(n_workers=4)"
   ]
  },
  {
   "cell_type": "markdown",
   "id": "3cc21dc3-75c5-4efa-be90-88f07504ef47",
   "metadata": {},
   "source": [
    "### Bag Creation\n",
    "\n",
    "You can create a `Bag` from a Python sequence, from files, from data on S3, etc.\n",
    "We demonstrate using `.take()` to show elements of the data. (Doing `.take(1)` results in a tuple with one element)\n",
    "\n",
    "Note that the data are partitioned into blocks, and there are many items per block. In the first example, the two partitions contain five elements each, and in the following two, each file is partitioned into one or more bytes blocks."
   ]
  },
  {
   "cell_type": "code",
   "execution_count": 15,
   "id": "d4348629-f2a7-4c15-82be-9b9e48756bcb",
   "metadata": {},
   "outputs": [
    {
     "data": {
      "text/plain": [
       "(1, 2, 3)"
      ]
     },
     "execution_count": 15,
     "metadata": {},
     "output_type": "execute_result"
    }
   ],
   "source": [
    "# each element is an integer\n",
    "import dask.bag as db\n",
    "b = db.from_sequence([1, 2, 3, 4, 5, 6, 7, 8, 9, 10], npartitions=2)\n",
    "b.take(3)"
   ]
  },
  {
   "cell_type": "code",
   "execution_count": 16,
   "id": "d9ed042d-bf8c-465b-b8b9-0819be72f2d2",
   "metadata": {
    "scrolled": true,
    "tags": []
   },
   "outputs": [
    {
     "data": {
      "text/plain": [
       "({'id': 1,\n",
       "  'name': 'Edith',\n",
       "  'transactions': [{'transaction-id': 107, 'amount': 7541},\n",
       "   {'transaction-id': 331, 'amount': 8108},\n",
       "   {'transaction-id': 335, 'amount': 7420},\n",
       "   {'transaction-id': 407, 'amount': 7703},\n",
       "   {'transaction-id': 489, 'amount': 7354},\n",
       "   {'transaction-id': 587, 'amount': 8334},\n",
       "   {'transaction-id': 603, 'amount': 7969},\n",
       "   {'transaction-id': 645, 'amount': 6972},\n",
       "   {'transaction-id': 707, 'amount': 7887},\n",
       "   {'transaction-id': 925, 'amount': 6884},\n",
       "   {'transaction-id': 1021, 'amount': 7287},\n",
       "   {'transaction-id': 1175, 'amount': 7960},\n",
       "   {'transaction-id': 1216, 'amount': 7495},\n",
       "   {'transaction-id': 1387, 'amount': 7433},\n",
       "   {'transaction-id': 1410, 'amount': 7182},\n",
       "   {'transaction-id': 1530, 'amount': 7991},\n",
       "   {'transaction-id': 1549, 'amount': 8005},\n",
       "   {'transaction-id': 1708, 'amount': 7974},\n",
       "   {'transaction-id': 1736, 'amount': 6878},\n",
       "   {'transaction-id': 2364, 'amount': 7667},\n",
       "   {'transaction-id': 2488, 'amount': 8358},\n",
       "   {'transaction-id': 2611, 'amount': 7908},\n",
       "   {'transaction-id': 2613, 'amount': 7614},\n",
       "   {'transaction-id': 2668, 'amount': 7519},\n",
       "   {'transaction-id': 2708, 'amount': 6751},\n",
       "   {'transaction-id': 2713, 'amount': 8414},\n",
       "   {'transaction-id': 2918, 'amount': 7838},\n",
       "   {'transaction-id': 3217, 'amount': 7903},\n",
       "   {'transaction-id': 3264, 'amount': 7578},\n",
       "   {'transaction-id': 3312, 'amount': 8449},\n",
       "   {'transaction-id': 3332, 'amount': 7247},\n",
       "   {'transaction-id': 3447, 'amount': 7114},\n",
       "   {'transaction-id': 3514, 'amount': 7424},\n",
       "   {'transaction-id': 3862, 'amount': 7895},\n",
       "   {'transaction-id': 4029, 'amount': 8032},\n",
       "   {'transaction-id': 4094, 'amount': 7671},\n",
       "   {'transaction-id': 4175, 'amount': 7517},\n",
       "   {'transaction-id': 4320, 'amount': 7505},\n",
       "   {'transaction-id': 4383, 'amount': 7706},\n",
       "   {'transaction-id': 4565, 'amount': 7834},\n",
       "   {'transaction-id': 4574, 'amount': 7241},\n",
       "   {'transaction-id': 4692, 'amount': 7343},\n",
       "   {'transaction-id': 4715, 'amount': 7009},\n",
       "   {'transaction-id': 4828, 'amount': 7996},\n",
       "   {'transaction-id': 4834, 'amount': 7676},\n",
       "   {'transaction-id': 4862, 'amount': 6898},\n",
       "   {'transaction-id': 4877, 'amount': 6913},\n",
       "   {'transaction-id': 4931, 'amount': 7305},\n",
       "   {'transaction-id': 4963, 'amount': 7658},\n",
       "   {'transaction-id': 4965, 'amount': 8428},\n",
       "   {'transaction-id': 5153, 'amount': 7965},\n",
       "   {'transaction-id': 5176, 'amount': 7683},\n",
       "   {'transaction-id': 5232, 'amount': 7485},\n",
       "   {'transaction-id': 5481, 'amount': 6154},\n",
       "   {'transaction-id': 5546, 'amount': 6693},\n",
       "   {'transaction-id': 5726, 'amount': 7995},\n",
       "   {'transaction-id': 5857, 'amount': 7735},\n",
       "   {'transaction-id': 5934, 'amount': 7730},\n",
       "   {'transaction-id': 5936, 'amount': 8188},\n",
       "   {'transaction-id': 5939, 'amount': 7120},\n",
       "   {'transaction-id': 5986, 'amount': 7743},\n",
       "   {'transaction-id': 6025, 'amount': 8305},\n",
       "   {'transaction-id': 6154, 'amount': 6619},\n",
       "   {'transaction-id': 6286, 'amount': 6619},\n",
       "   {'transaction-id': 6302, 'amount': 8054},\n",
       "   {'transaction-id': 6522, 'amount': 7515},\n",
       "   {'transaction-id': 6534, 'amount': 7224},\n",
       "   {'transaction-id': 6635, 'amount': 7628},\n",
       "   {'transaction-id': 6670, 'amount': 6447},\n",
       "   {'transaction-id': 6741, 'amount': 7873},\n",
       "   {'transaction-id': 6871, 'amount': 7516},\n",
       "   {'transaction-id': 7038, 'amount': 7904},\n",
       "   {'transaction-id': 7100, 'amount': 7514},\n",
       "   {'transaction-id': 7218, 'amount': 8362},\n",
       "   {'transaction-id': 7702, 'amount': 7368},\n",
       "   {'transaction-id': 7824, 'amount': 7709},\n",
       "   {'transaction-id': 7873, 'amount': 8198},\n",
       "   {'transaction-id': 7990, 'amount': 7013},\n",
       "   {'transaction-id': 8189, 'amount': 7694},\n",
       "   {'transaction-id': 8669, 'amount': 8199},\n",
       "   {'transaction-id': 8966, 'amount': 7726},\n",
       "   {'transaction-id': 8975, 'amount': 7579},\n",
       "   {'transaction-id': 8999, 'amount': 7519},\n",
       "   {'transaction-id': 9217, 'amount': 7890},\n",
       "   {'transaction-id': 9224, 'amount': 7056},\n",
       "   {'transaction-id': 9283, 'amount': 6977},\n",
       "   {'transaction-id': 9298, 'amount': 7174},\n",
       "   {'transaction-id': 9417, 'amount': 7126},\n",
       "   {'transaction-id': 9450, 'amount': 7890},\n",
       "   {'transaction-id': 9487, 'amount': 8375},\n",
       "   {'transaction-id': 9648, 'amount': 8375},\n",
       "   {'transaction-id': 9723, 'amount': 7182},\n",
       "   {'transaction-id': 9751, 'amount': 7077},\n",
       "   {'transaction-id': 9852, 'amount': 8055},\n",
       "   {'transaction-id': 9856, 'amount': 7938},\n",
       "   {'transaction-id': 9901, 'amount': 8055},\n",
       "   {'transaction-id': 9925, 'amount': 7691},\n",
       "   {'transaction-id': 10208, 'amount': 7215},\n",
       "   {'transaction-id': 10259, 'amount': 7628},\n",
       "   {'transaction-id': 10300, 'amount': 7620},\n",
       "   {'transaction-id': 10315, 'amount': 8160},\n",
       "   {'transaction-id': 10455, 'amount': 7461},\n",
       "   {'transaction-id': 10475, 'amount': 7788},\n",
       "   {'transaction-id': 10537, 'amount': 7539},\n",
       "   {'transaction-id': 10643, 'amount': 7107},\n",
       "   {'transaction-id': 10649, 'amount': 7112},\n",
       "   {'transaction-id': 10687, 'amount': 7688},\n",
       "   {'transaction-id': 10729, 'amount': 7974},\n",
       "   {'transaction-id': 10897, 'amount': 6782},\n",
       "   {'transaction-id': 10910, 'amount': 7442},\n",
       "   {'transaction-id': 10973, 'amount': 7330},\n",
       "   {'transaction-id': 10995, 'amount': 7899},\n",
       "   {'transaction-id': 11123, 'amount': 6924},\n",
       "   {'transaction-id': 11202, 'amount': 7708},\n",
       "   {'transaction-id': 11257, 'amount': 7140},\n",
       "   {'transaction-id': 11280, 'amount': 7719},\n",
       "   {'transaction-id': 11311, 'amount': 7935},\n",
       "   {'transaction-id': 11465, 'amount': 8560},\n",
       "   {'transaction-id': 11515, 'amount': 7618},\n",
       "   {'transaction-id': 11543, 'amount': 7932},\n",
       "   {'transaction-id': 11616, 'amount': 8720},\n",
       "   {'transaction-id': 11640, 'amount': 8020},\n",
       "   {'transaction-id': 11891, 'amount': 7921},\n",
       "   {'transaction-id': 11903, 'amount': 8082},\n",
       "   {'transaction-id': 11919, 'amount': 7256},\n",
       "   {'transaction-id': 11982, 'amount': 7927},\n",
       "   {'transaction-id': 12126, 'amount': 8017},\n",
       "   {'transaction-id': 12151, 'amount': 7279},\n",
       "   {'transaction-id': 12153, 'amount': 8124},\n",
       "   {'transaction-id': 12195, 'amount': 7216},\n",
       "   {'transaction-id': 12398, 'amount': 8015},\n",
       "   {'transaction-id': 12480, 'amount': 7452},\n",
       "   {'transaction-id': 12830, 'amount': 7367},\n",
       "   {'transaction-id': 12846, 'amount': 7135},\n",
       "   {'transaction-id': 12884, 'amount': 7729},\n",
       "   {'transaction-id': 12901, 'amount': 7444},\n",
       "   {'transaction-id': 12936, 'amount': 7225},\n",
       "   {'transaction-id': 13059, 'amount': 8648},\n",
       "   {'transaction-id': 13148, 'amount': 8149},\n",
       "   {'transaction-id': 13233, 'amount': 7637},\n",
       "   {'transaction-id': 13279, 'amount': 7721},\n",
       "   {'transaction-id': 13378, 'amount': 7469},\n",
       "   {'transaction-id': 13676, 'amount': 8065},\n",
       "   {'transaction-id': 13834, 'amount': 8403},\n",
       "   {'transaction-id': 14001, 'amount': 7278},\n",
       "   {'transaction-id': 14002, 'amount': 7768},\n",
       "   {'transaction-id': 14006, 'amount': 7990},\n",
       "   {'transaction-id': 14299, 'amount': 7970},\n",
       "   {'transaction-id': 14415, 'amount': 6928},\n",
       "   {'transaction-id': 14594, 'amount': 7726},\n",
       "   {'transaction-id': 14635, 'amount': 8024},\n",
       "   {'transaction-id': 14654, 'amount': 8003},\n",
       "   {'transaction-id': 14782, 'amount': 7768},\n",
       "   {'transaction-id': 14833, 'amount': 7928},\n",
       "   {'transaction-id': 14857, 'amount': 7827},\n",
       "   {'transaction-id': 14859, 'amount': 8677},\n",
       "   {'transaction-id': 14871, 'amount': 7406},\n",
       "   {'transaction-id': 15051, 'amount': 7661},\n",
       "   {'transaction-id': 15148, 'amount': 7691},\n",
       "   {'transaction-id': 15349, 'amount': 7394},\n",
       "   {'transaction-id': 15642, 'amount': 7654},\n",
       "   {'transaction-id': 15703, 'amount': 6621},\n",
       "   {'transaction-id': 15785, 'amount': 7646},\n",
       "   {'transaction-id': 15933, 'amount': 7776},\n",
       "   {'transaction-id': 16006, 'amount': 8555},\n",
       "   {'transaction-id': 16047, 'amount': 7546},\n",
       "   {'transaction-id': 16325, 'amount': 6875},\n",
       "   {'transaction-id': 16485, 'amount': 8003},\n",
       "   {'transaction-id': 16574, 'amount': 7372},\n",
       "   {'transaction-id': 16622, 'amount': 8186},\n",
       "   {'transaction-id': 16712, 'amount': 7759},\n",
       "   {'transaction-id': 16762, 'amount': 7527},\n",
       "   {'transaction-id': 16872, 'amount': 7589},\n",
       "   {'transaction-id': 17025, 'amount': 7338},\n",
       "   {'transaction-id': 17234, 'amount': 7582},\n",
       "   {'transaction-id': 17283, 'amount': 7711},\n",
       "   {'transaction-id': 17436, 'amount': 7954},\n",
       "   {'transaction-id': 17575, 'amount': 7796},\n",
       "   {'transaction-id': 17717, 'amount': 7724},\n",
       "   {'transaction-id': 17803, 'amount': 8548},\n",
       "   {'transaction-id': 17907, 'amount': 8551},\n",
       "   {'transaction-id': 18026, 'amount': 7532},\n",
       "   {'transaction-id': 18027, 'amount': 6814},\n",
       "   {'transaction-id': 18338, 'amount': 6796},\n",
       "   {'transaction-id': 18347, 'amount': 7340},\n",
       "   {'transaction-id': 18356, 'amount': 7843},\n",
       "   {'transaction-id': 18636, 'amount': 8041},\n",
       "   {'transaction-id': 18655, 'amount': 7431},\n",
       "   {'transaction-id': 18707, 'amount': 7385},\n",
       "   {'transaction-id': 19107, 'amount': 7733},\n",
       "   {'transaction-id': 19121, 'amount': 7712},\n",
       "   {'transaction-id': 19197, 'amount': 7286},\n",
       "   {'transaction-id': 19203, 'amount': 7282},\n",
       "   {'transaction-id': 19248, 'amount': 6603},\n",
       "   {'transaction-id': 19463, 'amount': 7265},\n",
       "   {'transaction-id': 19724, 'amount': 7804},\n",
       "   {'transaction-id': 19832, 'amount': 7454},\n",
       "   {'transaction-id': 19890, 'amount': 8259},\n",
       "   {'transaction-id': 19895, 'amount': 7007},\n",
       "   {'transaction-id': 19950, 'amount': 6447},\n",
       "   {'transaction-id': 20044, 'amount': 7972},\n",
       "   {'transaction-id': 20121, 'amount': 7081},\n",
       "   {'transaction-id': 20390, 'amount': 7370},\n",
       "   {'transaction-id': 20464, 'amount': 8313},\n",
       "   {'transaction-id': 20809, 'amount': 6875},\n",
       "   {'transaction-id': 20813, 'amount': 7942},\n",
       "   {'transaction-id': 20905, 'amount': 7742},\n",
       "   {'transaction-id': 20983, 'amount': 8829},\n",
       "   {'transaction-id': 21022, 'amount': 7802},\n",
       "   {'transaction-id': 21150, 'amount': 7672},\n",
       "   {'transaction-id': 21486, 'amount': 7403},\n",
       "   {'transaction-id': 21502, 'amount': 8679},\n",
       "   {'transaction-id': 21582, 'amount': 7067},\n",
       "   {'transaction-id': 21592, 'amount': 7425},\n",
       "   {'transaction-id': 21761, 'amount': 7229},\n",
       "   {'transaction-id': 21877, 'amount': 6886},\n",
       "   {'transaction-id': 22073, 'amount': 7609},\n",
       "   {'transaction-id': 22143, 'amount': 7589},\n",
       "   {'transaction-id': 22219, 'amount': 7264},\n",
       "   {'transaction-id': 22337, 'amount': 7109},\n",
       "   {'transaction-id': 22630, 'amount': 7682},\n",
       "   {'transaction-id': 22655, 'amount': 8161},\n",
       "   {'transaction-id': 22714, 'amount': 7920},\n",
       "   {'transaction-id': 22915, 'amount': 8165},\n",
       "   {'transaction-id': 23298, 'amount': 8027},\n",
       "   {'transaction-id': 23422, 'amount': 8932},\n",
       "   {'transaction-id': 23470, 'amount': 7685},\n",
       "   {'transaction-id': 23473, 'amount': 7836},\n",
       "   {'transaction-id': 23507, 'amount': 6698},\n",
       "   {'transaction-id': 23526, 'amount': 6962},\n",
       "   {'transaction-id': 23579, 'amount': 7535},\n",
       "   {'transaction-id': 23628, 'amount': 7426},\n",
       "   {'transaction-id': 23751, 'amount': 7765},\n",
       "   {'transaction-id': 23792, 'amount': 8138},\n",
       "   {'transaction-id': 23857, 'amount': 7557},\n",
       "   {'transaction-id': 23898, 'amount': 7082},\n",
       "   {'transaction-id': 23961, 'amount': 7236},\n",
       "   {'transaction-id': 23981, 'amount': 7384},\n",
       "   {'transaction-id': 24226, 'amount': 8342},\n",
       "   {'transaction-id': 24244, 'amount': 7929},\n",
       "   {'transaction-id': 24245, 'amount': 7644},\n",
       "   {'transaction-id': 24340, 'amount': 7803},\n",
       "   {'transaction-id': 24433, 'amount': 8284},\n",
       "   {'transaction-id': 24518, 'amount': 8444},\n",
       "   {'transaction-id': 24584, 'amount': 8001},\n",
       "   {'transaction-id': 24723, 'amount': 8153},\n",
       "   {'transaction-id': 24962, 'amount': 7482},\n",
       "   {'transaction-id': 25004, 'amount': 7282},\n",
       "   {'transaction-id': 25066, 'amount': 7826},\n",
       "   {'transaction-id': 25067, 'amount': 7783},\n",
       "   {'transaction-id': 25306, 'amount': 7905},\n",
       "   {'transaction-id': 25723, 'amount': 8510},\n",
       "   {'transaction-id': 25735, 'amount': 8037},\n",
       "   {'transaction-id': 26014, 'amount': 7755},\n",
       "   {'transaction-id': 26041, 'amount': 7680},\n",
       "   {'transaction-id': 26272, 'amount': 7457},\n",
       "   {'transaction-id': 26324, 'amount': 8395},\n",
       "   {'transaction-id': 26565, 'amount': 8255},\n",
       "   {'transaction-id': 26869, 'amount': 7427},\n",
       "   {'transaction-id': 26897, 'amount': 8298},\n",
       "   {'transaction-id': 27032, 'amount': 8683},\n",
       "   {'transaction-id': 27057, 'amount': 8111},\n",
       "   {'transaction-id': 27255, 'amount': 7707},\n",
       "   {'transaction-id': 27577, 'amount': 7474},\n",
       "   {'transaction-id': 27723, 'amount': 7619},\n",
       "   {'transaction-id': 27899, 'amount': 7344},\n",
       "   {'transaction-id': 27919, 'amount': 7475},\n",
       "   {'transaction-id': 27956, 'amount': 7844},\n",
       "   {'transaction-id': 28053, 'amount': 8301},\n",
       "   {'transaction-id': 28159, 'amount': 8067},\n",
       "   {'transaction-id': 28207, 'amount': 7929},\n",
       "   {'transaction-id': 28278, 'amount': 8363},\n",
       "   {'transaction-id': 28305, 'amount': 7783},\n",
       "   {'transaction-id': 28307, 'amount': 7818},\n",
       "   {'transaction-id': 28368, 'amount': 7379},\n",
       "   {'transaction-id': 28453, 'amount': 7292},\n",
       "   {'transaction-id': 28798, 'amount': 8618},\n",
       "   {'transaction-id': 29051, 'amount': 8233},\n",
       "   {'transaction-id': 29114, 'amount': 7914},\n",
       "   {'transaction-id': 29204, 'amount': 7737},\n",
       "   {'transaction-id': 29309, 'amount': 7665},\n",
       "   {'transaction-id': 29379, 'amount': 8214},\n",
       "   {'transaction-id': 29395, 'amount': 6955},\n",
       "   {'transaction-id': 29478, 'amount': 7522},\n",
       "   {'transaction-id': 29480, 'amount': 7479},\n",
       "   {'transaction-id': 30068, 'amount': 7425},\n",
       "   {'transaction-id': 30130, 'amount': 7179},\n",
       "   {'transaction-id': 30156, 'amount': 7407},\n",
       "   {'transaction-id': 30177, 'amount': 7503},\n",
       "   {'transaction-id': 30199, 'amount': 7212},\n",
       "   {'transaction-id': 30277, 'amount': 8077},\n",
       "   {'transaction-id': 30281, 'amount': 7786},\n",
       "   {'transaction-id': 30333, 'amount': 7214},\n",
       "   {'transaction-id': 30655, 'amount': 7796},\n",
       "   {'transaction-id': 30688, 'amount': 7922},\n",
       "   {'transaction-id': 30698, 'amount': 7336},\n",
       "   {'transaction-id': 30784, 'amount': 6809},\n",
       "   {'transaction-id': 30893, 'amount': 7574},\n",
       "   {'transaction-id': 30990, 'amount': 7530},\n",
       "   {'transaction-id': 31028, 'amount': 7497},\n",
       "   {'transaction-id': 31206, 'amount': 7559},\n",
       "   {'transaction-id': 31419, 'amount': 8164},\n",
       "   {'transaction-id': 31723, 'amount': 7173},\n",
       "   {'transaction-id': 31927, 'amount': 7736},\n",
       "   {'transaction-id': 32072, 'amount': 7715},\n",
       "   {'transaction-id': 32077, 'amount': 7278},\n",
       "   {'transaction-id': 32108, 'amount': 6978},\n",
       "   {'transaction-id': 32143, 'amount': 7552},\n",
       "   {'transaction-id': 32666, 'amount': 7401},\n",
       "   {'transaction-id': 32697, 'amount': 8077},\n",
       "   {'transaction-id': 32766, 'amount': 7788},\n",
       "   {'transaction-id': 32977, 'amount': 7839},\n",
       "   {'transaction-id': 32997, 'amount': 8169},\n",
       "   {'transaction-id': 33110, 'amount': 8225},\n",
       "   {'transaction-id': 33161, 'amount': 7775},\n",
       "   {'transaction-id': 33164, 'amount': 7000},\n",
       "   {'transaction-id': 33318, 'amount': 7702},\n",
       "   {'transaction-id': 33509, 'amount': 8317},\n",
       "   {'transaction-id': 33518, 'amount': 7537},\n",
       "   {'transaction-id': 33535, 'amount': 7748},\n",
       "   {'transaction-id': 33544, 'amount': 7491},\n",
       "   {'transaction-id': 33716, 'amount': 7499},\n",
       "   {'transaction-id': 33781, 'amount': 7517},\n",
       "   {'transaction-id': 33891, 'amount': 7170},\n",
       "   {'transaction-id': 34102, 'amount': 7131},\n",
       "   {'transaction-id': 34357, 'amount': 8587},\n",
       "   {'transaction-id': 34670, 'amount': 7348},\n",
       "   {'transaction-id': 34711, 'amount': 7105},\n",
       "   {'transaction-id': 34729, 'amount': 8513},\n",
       "   {'transaction-id': 34861, 'amount': 6971},\n",
       "   {'transaction-id': 34982, 'amount': 8134},\n",
       "   {'transaction-id': 35072, 'amount': 7945},\n",
       "   {'transaction-id': 35348, 'amount': 7465},\n",
       "   {'transaction-id': 35393, 'amount': 7315},\n",
       "   {'transaction-id': 35454, 'amount': 7520},\n",
       "   {'transaction-id': 35531, 'amount': 7411},\n",
       "   {'transaction-id': 35532, 'amount': 7691},\n",
       "   {'transaction-id': 35715, 'amount': 7618},\n",
       "   {'transaction-id': 35770, 'amount': 8477},\n",
       "   {'transaction-id': 35779, 'amount': 7950},\n",
       "   {'transaction-id': 35846, 'amount': 7903},\n",
       "   {'transaction-id': 36110, 'amount': 6917},\n",
       "   {'transaction-id': 36250, 'amount': 7446},\n",
       "   {'transaction-id': 36256, 'amount': 7557},\n",
       "   {'transaction-id': 36503, 'amount': 7384},\n",
       "   {'transaction-id': 36594, 'amount': 7958},\n",
       "   {'transaction-id': 36696, 'amount': 7801},\n",
       "   {'transaction-id': 36857, 'amount': 7930},\n",
       "   {'transaction-id': 37118, 'amount': 7674},\n",
       "   {'transaction-id': 37139, 'amount': 7404},\n",
       "   {'transaction-id': 37158, 'amount': 7899},\n",
       "   {'transaction-id': 37477, 'amount': 6979},\n",
       "   {'transaction-id': 37566, 'amount': 7849},\n",
       "   {'transaction-id': 37604, 'amount': 7499},\n",
       "   {'transaction-id': 37688, 'amount': 7196},\n",
       "   {'transaction-id': 37701, 'amount': 7848},\n",
       "   {'transaction-id': 38242, 'amount': 7118},\n",
       "   {'transaction-id': 38249, 'amount': 7899},\n",
       "   {'transaction-id': 38306, 'amount': 7097},\n",
       "   {'transaction-id': 38313, 'amount': 7845},\n",
       "   {'transaction-id': 38434, 'amount': 7021},\n",
       "   {'transaction-id': 38465, 'amount': 7282},\n",
       "   {'transaction-id': 38662, 'amount': 8232},\n",
       "   {'transaction-id': 38689, 'amount': 6927},\n",
       "   {'transaction-id': 38734, 'amount': 7450},\n",
       "   {'transaction-id': 38867, 'amount': 8062},\n",
       "   {'transaction-id': 38883, 'amount': 8188},\n",
       "   {'transaction-id': 38965, 'amount': 7604},\n",
       "   {'transaction-id': 39057, 'amount': 7602},\n",
       "   {'transaction-id': 39265, 'amount': 8089},\n",
       "   {'transaction-id': 39305, 'amount': 7119},\n",
       "   {'transaction-id': 39330, 'amount': 7831},\n",
       "   {'transaction-id': 39403, 'amount': 7677},\n",
       "   {'transaction-id': 39410, 'amount': 8397},\n",
       "   {'transaction-id': 39491, 'amount': 7250},\n",
       "   {'transaction-id': 39664, 'amount': 7031},\n",
       "   {'transaction-id': 39698, 'amount': 7564},\n",
       "   {'transaction-id': 39762, 'amount': 7021},\n",
       "   {'transaction-id': 39799, 'amount': 7915},\n",
       "   {'transaction-id': 39830, 'amount': 7714},\n",
       "   {'transaction-id': 39983, 'amount': 7864},\n",
       "   {'transaction-id': 40003, 'amount': 7846},\n",
       "   {'transaction-id': 40060, 'amount': 7247},\n",
       "   {'transaction-id': 40164, 'amount': 7044},\n",
       "   {'transaction-id': 40271, 'amount': 8328},\n",
       "   {'transaction-id': 40408, 'amount': 7325},\n",
       "   {'transaction-id': 40549, 'amount': 7880},\n",
       "   {'transaction-id': 40555, 'amount': 7960},\n",
       "   {'transaction-id': 40572, 'amount': 7978},\n",
       "   {'transaction-id': 40689, 'amount': 7549},\n",
       "   {'transaction-id': 40950, 'amount': 7526},\n",
       "   {'transaction-id': 41050, 'amount': 6818},\n",
       "   {'transaction-id': 41125, 'amount': 7909},\n",
       "   {'transaction-id': 41199, 'amount': 7953},\n",
       "   {'transaction-id': 41230, 'amount': 8543},\n",
       "   {'transaction-id': 41404, 'amount': 7041},\n",
       "   {'transaction-id': 41425, 'amount': 7588},\n",
       "   {'transaction-id': 41522, 'amount': 8019},\n",
       "   {'transaction-id': 41535, 'amount': 7120},\n",
       "   {'transaction-id': 41658, 'amount': 7442},\n",
       "   {'transaction-id': 41745, 'amount': 7660},\n",
       "   {'transaction-id': 41754, 'amount': 7427},\n",
       "   {'transaction-id': 41813, 'amount': 7387},\n",
       "   {'transaction-id': 41831, 'amount': 6546},\n",
       "   {'transaction-id': 41857, 'amount': 7288},\n",
       "   {'transaction-id': 41859, 'amount': 7618},\n",
       "   {'transaction-id': 41883, 'amount': 7719},\n",
       "   {'transaction-id': 42041, 'amount': 7797},\n",
       "   {'transaction-id': 42378, 'amount': 7812},\n",
       "   {'transaction-id': 42430, 'amount': 7877},\n",
       "   {'transaction-id': 42432, 'amount': 7698},\n",
       "   {'transaction-id': 42463, 'amount': 7469},\n",
       "   {'transaction-id': 42489, 'amount': 8120},\n",
       "   {'transaction-id': 42526, 'amount': 7216},\n",
       "   {'transaction-id': 42529, 'amount': 7334},\n",
       "   {'transaction-id': 42546, 'amount': 8214},\n",
       "   {'transaction-id': 42654, 'amount': 8037},\n",
       "   {'transaction-id': 42850, 'amount': 7525},\n",
       "   {'transaction-id': 42880, 'amount': 7773},\n",
       "   {'transaction-id': 42943, 'amount': 7525},\n",
       "   {'transaction-id': 43144, 'amount': 7495},\n",
       "   {'transaction-id': 43184, 'amount': 7509},\n",
       "   {'transaction-id': 43306, 'amount': 7373},\n",
       "   {'transaction-id': 43391, 'amount': 7412},\n",
       "   {'transaction-id': 43454, 'amount': 8382},\n",
       "   {'transaction-id': 43494, 'amount': 7198},\n",
       "   {'transaction-id': 43507, 'amount': 7798},\n",
       "   {'transaction-id': 43827, 'amount': 7381},\n",
       "   {'transaction-id': 43834, 'amount': 7519},\n",
       "   {'transaction-id': 43839, 'amount': 8297},\n",
       "   {'transaction-id': 43895, 'amount': 7298},\n",
       "   {'transaction-id': 44069, 'amount': 7102},\n",
       "   {'transaction-id': 44072, 'amount': 7142},\n",
       "   {'transaction-id': 44076, 'amount': 7380},\n",
       "   {'transaction-id': 44165, 'amount': 8606},\n",
       "   {'transaction-id': 44228, 'amount': 8393},\n",
       "   {'transaction-id': 44329, 'amount': 7992},\n",
       "   {'transaction-id': 44495, 'amount': 7502},\n",
       "   {'transaction-id': 44583, 'amount': 7298},\n",
       "   {'transaction-id': 44944, 'amount': 7658},\n",
       "   {'transaction-id': 45006, 'amount': 7662},\n",
       "   {'transaction-id': 45094, 'amount': 8055},\n",
       "   {'transaction-id': 45242, 'amount': 7438},\n",
       "   {'transaction-id': 45437, 'amount': 7642},\n",
       "   {'transaction-id': 45603, 'amount': 7648},\n",
       "   {'transaction-id': 45649, 'amount': 7045},\n",
       "   {'transaction-id': 45735, 'amount': 7654},\n",
       "   {'transaction-id': 45771, 'amount': 7532},\n",
       "   {'transaction-id': 45857, 'amount': 7894},\n",
       "   {'transaction-id': 45966, 'amount': 8045},\n",
       "   {'transaction-id': 46009, 'amount': 6467},\n",
       "   {'transaction-id': 46041, 'amount': 7627},\n",
       "   {'transaction-id': 46183, 'amount': 7399},\n",
       "   {'transaction-id': 46420, 'amount': 7416},\n",
       "   {'transaction-id': 46482, 'amount': 7189},\n",
       "   {'transaction-id': 46628, 'amount': 7410},\n",
       "   {'transaction-id': 46690, 'amount': 6867},\n",
       "   {'transaction-id': 46827, 'amount': 8208},\n",
       "   {'transaction-id': 46938, 'amount': 7438},\n",
       "   {'transaction-id': 46987, 'amount': 7481},\n",
       "   {'transaction-id': 47107, 'amount': 7620},\n",
       "   {'transaction-id': 47521, 'amount': 7500},\n",
       "   {'transaction-id': 48018, 'amount': 7948},\n",
       "   {'transaction-id': 48043, 'amount': 7663},\n",
       "   {'transaction-id': 48206, 'amount': 7470},\n",
       "   {'transaction-id': 48349, 'amount': 7932},\n",
       "   {'transaction-id': 48545, 'amount': 7195},\n",
       "   {'transaction-id': 48641, 'amount': 7392},\n",
       "   {'transaction-id': 48778, 'amount': 7743},\n",
       "   {'transaction-id': 48906, 'amount': 8118},\n",
       "   {'transaction-id': 48949, 'amount': 7849},\n",
       "   {'transaction-id': 49538, 'amount': 6741},\n",
       "   {'transaction-id': 49685, 'amount': 6858},\n",
       "   {'transaction-id': 49884, 'amount': 7468},\n",
       "   {'transaction-id': 49887, 'amount': 7819},\n",
       "   {'transaction-id': 49935, 'amount': 8384},\n",
       "   {'transaction-id': 50059, 'amount': 7792},\n",
       "   {'transaction-id': 50079, 'amount': 7872},\n",
       "   {'transaction-id': 50199, 'amount': 8178},\n",
       "   {'transaction-id': 50290, 'amount': 8043},\n",
       "   {'transaction-id': 50400, 'amount': 7282},\n",
       "   {'transaction-id': 50452, 'amount': 7449},\n",
       "   {'transaction-id': 50457, 'amount': 7212},\n",
       "   {'transaction-id': 50653, 'amount': 7329},\n",
       "   {'transaction-id': 50703, 'amount': 8308},\n",
       "   {'transaction-id': 50927, 'amount': 8733},\n",
       "   {'transaction-id': 50964, 'amount': 7563},\n",
       "   {'transaction-id': 51174, 'amount': 7625},\n",
       "   {'transaction-id': 51214, 'amount': 7850},\n",
       "   {'transaction-id': 51226, 'amount': 7138},\n",
       "   {'transaction-id': 51230, 'amount': 7538},\n",
       "   {'transaction-id': 51285, 'amount': 8003},\n",
       "   {'transaction-id': 51597, 'amount': 7060},\n",
       "   {'transaction-id': 51651, 'amount': 7025},\n",
       "   {'transaction-id': 51718, 'amount': 7371},\n",
       "   {'transaction-id': 51769, 'amount': 7328},\n",
       "   {'transaction-id': 51842, 'amount': 7510},\n",
       "   {'transaction-id': 51865, 'amount': 6808},\n",
       "   {'transaction-id': 51920, 'amount': 7661},\n",
       "   {'transaction-id': 51949, 'amount': 7639},\n",
       "   {'transaction-id': 52039, 'amount': 8248},\n",
       "   {'transaction-id': 52067, 'amount': 7612},\n",
       "   {'transaction-id': 52127, 'amount': 8154},\n",
       "   {'transaction-id': 52325, 'amount': 8361},\n",
       "   {'transaction-id': 52488, 'amount': 7974},\n",
       "   {'transaction-id': 52532, 'amount': 8163},\n",
       "   {'transaction-id': 52626, 'amount': 8180},\n",
       "   {'transaction-id': 52813, 'amount': 7138},\n",
       "   {'transaction-id': 52817, 'amount': 7195},\n",
       "   {'transaction-id': 52893, 'amount': 7646},\n",
       "   {'transaction-id': 52912, 'amount': 8524},\n",
       "   {'transaction-id': 53213, 'amount': 7150},\n",
       "   {'transaction-id': 53217, 'amount': 7606},\n",
       "   {'transaction-id': 53301, 'amount': 7685},\n",
       "   {'transaction-id': 53408, 'amount': 7414},\n",
       "   {'transaction-id': 53534, 'amount': 6952},\n",
       "   {'transaction-id': 53568, 'amount': 8358},\n",
       "   {'transaction-id': 53622, 'amount': 6118},\n",
       "   {'transaction-id': 53762, 'amount': 7940},\n",
       "   {'transaction-id': 53846, 'amount': 7414},\n",
       "   {'transaction-id': 53887, 'amount': 8054},\n",
       "   {'transaction-id': 53985, 'amount': 8092},\n",
       "   {'transaction-id': 54148, 'amount': 7366},\n",
       "   {'transaction-id': 54172, 'amount': 7728},\n",
       "   {'transaction-id': 54320, 'amount': 7603},\n",
       "   {'transaction-id': 54445, 'amount': 7864},\n",
       "   {'transaction-id': 54561, 'amount': 7263},\n",
       "   {'transaction-id': 54684, 'amount': 7704},\n",
       "   {'transaction-id': 54695, 'amount': 8527},\n",
       "   {'transaction-id': 54732, 'amount': 7900},\n",
       "   {'transaction-id': 54896, 'amount': 7695},\n",
       "   {'transaction-id': 54899, 'amount': 7424},\n",
       "   {'transaction-id': 55020, 'amount': 7254},\n",
       "   {'transaction-id': 55126, 'amount': 7106},\n",
       "   {'transaction-id': 55356, 'amount': 7446},\n",
       "   {'transaction-id': 55440, 'amount': 7146},\n",
       "   {'transaction-id': 55627, 'amount': 7718},\n",
       "   {'transaction-id': 55658, 'amount': 8487},\n",
       "   {'transaction-id': 55758, 'amount': 7825},\n",
       "   {'transaction-id': 55896, 'amount': 7120},\n",
       "   {'transaction-id': 55966, 'amount': 7162},\n",
       "   {'transaction-id': 56080, 'amount': 7151},\n",
       "   {'transaction-id': 56156, 'amount': 7521},\n",
       "   {'transaction-id': 56194, 'amount': 7009},\n",
       "   {'transaction-id': 56209, 'amount': 7693},\n",
       "   {'transaction-id': 56382, 'amount': 7204},\n",
       "   {'transaction-id': 56394, 'amount': 7318},\n",
       "   {'transaction-id': 56484, 'amount': 7959},\n",
       "   {'transaction-id': 56697, 'amount': 7007},\n",
       "   {'transaction-id': 56722, 'amount': 7742},\n",
       "   {'transaction-id': 56855, 'amount': 7607},\n",
       "   {'transaction-id': 57275, 'amount': 7754},\n",
       "   {'transaction-id': 57310, 'amount': 7512},\n",
       "   {'transaction-id': 57379, 'amount': 7862},\n",
       "   {'transaction-id': 57419, 'amount': 7027},\n",
       "   {'transaction-id': 57498, 'amount': 7385},\n",
       "   {'transaction-id': 57608, 'amount': 7306},\n",
       "   {'transaction-id': 57685, 'amount': 6745},\n",
       "   {'transaction-id': 57739, 'amount': 7328},\n",
       "   {'transaction-id': 57778, 'amount': 7938},\n",
       "   {'transaction-id': 57887, 'amount': 7741},\n",
       "   {'transaction-id': 57920, 'amount': 7418},\n",
       "   {'transaction-id': 58071, 'amount': 7665},\n",
       "   {'transaction-id': 58115, 'amount': 7758},\n",
       "   {'transaction-id': 58559, 'amount': 7424},\n",
       "   {'transaction-id': 58694, 'amount': 7572},\n",
       "   {'transaction-id': 58724, 'amount': 8008},\n",
       "   {'transaction-id': 58783, 'amount': 8157},\n",
       "   {'transaction-id': 58803, 'amount': 7320},\n",
       "   {'transaction-id': 58829, 'amount': 8064},\n",
       "   {'transaction-id': 58881, 'amount': 7234},\n",
       "   {'transaction-id': 58885, 'amount': 7643},\n",
       "   {'transaction-id': 58925, 'amount': 7218},\n",
       "   {'transaction-id': 58926, 'amount': 7669},\n",
       "   {'transaction-id': 58948, 'amount': 7694},\n",
       "   {'transaction-id': 58982, 'amount': 6825},\n",
       "   {'transaction-id': 59412, 'amount': 8258},\n",
       "   {'transaction-id': 59549, 'amount': 7603},\n",
       "   {'transaction-id': 59598, 'amount': 7461},\n",
       "   {'transaction-id': 59600, 'amount': 7350},\n",
       "   {'transaction-id': 59618, 'amount': 7664},\n",
       "   {'transaction-id': 59920, 'amount': 7915},\n",
       "   {'transaction-id': 59924, 'amount': 8251},\n",
       "   {'transaction-id': 60119, 'amount': 7430},\n",
       "   {'transaction-id': 60194, 'amount': 7213},\n",
       "   {'transaction-id': 60224, 'amount': 7470},\n",
       "   {'transaction-id': 60452, 'amount': 7196},\n",
       "   {'transaction-id': 60587, 'amount': 8027},\n",
       "   {'transaction-id': 60592, 'amount': 7163},\n",
       "   {'transaction-id': 60617, 'amount': 7497},\n",
       "   {'transaction-id': 60790, 'amount': 7899},\n",
       "   {'transaction-id': 60810, 'amount': 7652},\n",
       "   {'transaction-id': 60943, 'amount': 7294},\n",
       "   {'transaction-id': 61117, 'amount': 7194},\n",
       "   {'transaction-id': 61156, 'amount': 6556},\n",
       "   {'transaction-id': 61235, 'amount': 7585},\n",
       "   {'transaction-id': 61366, 'amount': 7730},\n",
       "   {'transaction-id': 61467, 'amount': 8091},\n",
       "   {'transaction-id': 61468, 'amount': 8175},\n",
       "   {'transaction-id': 61504, 'amount': 7412},\n",
       "   {'transaction-id': 61861, 'amount': 7737},\n",
       "   {'transaction-id': 62036, 'amount': 8263},\n",
       "   {'transaction-id': 62071, 'amount': 8194},\n",
       "   {'transaction-id': 62159, 'amount': 7265},\n",
       "   {'transaction-id': 62250, 'amount': 8125},\n",
       "   {'transaction-id': 62555, 'amount': 8311},\n",
       "   {'transaction-id': 62722, 'amount': 7448},\n",
       "   {'transaction-id': 62772, 'amount': 7779},\n",
       "   {'transaction-id': 62864, 'amount': 7393},\n",
       "   {'transaction-id': 63137, 'amount': 8290},\n",
       "   {'transaction-id': 63193, 'amount': 7903},\n",
       "   {'transaction-id': 63230, 'amount': 7215},\n",
       "   {'transaction-id': 63252, 'amount': 6935},\n",
       "   {'transaction-id': 63263, 'amount': 8224},\n",
       "   {'transaction-id': 63302, 'amount': 7536},\n",
       "   {'transaction-id': 63559, 'amount': 7756},\n",
       "   {'transaction-id': 63596, 'amount': 6961},\n",
       "   {'transaction-id': 63644, 'amount': 7800},\n",
       "   {'transaction-id': 63719, 'amount': 7179},\n",
       "   {'transaction-id': 63801, 'amount': 7102},\n",
       "   {'transaction-id': 64021, 'amount': 7901},\n",
       "   {'transaction-id': 64129, 'amount': 6684},\n",
       "   {'transaction-id': 64193, 'amount': 7120},\n",
       "   {'transaction-id': 64199, 'amount': 6939},\n",
       "   {'transaction-id': 64222, 'amount': 7717},\n",
       "   {'transaction-id': 64292, 'amount': 7555},\n",
       "   {'transaction-id': 64458, 'amount': 7881},\n",
       "   {'transaction-id': 64575, 'amount': 6841},\n",
       "   {'transaction-id': 64632, 'amount': 7338},\n",
       "   {'transaction-id': 64701, 'amount': 7845},\n",
       "   {'transaction-id': 64940, 'amount': 7174},\n",
       "   {'transaction-id': 65005, 'amount': 8084},\n",
       "   {'transaction-id': 65058, 'amount': 7996},\n",
       "   {'transaction-id': 65143, 'amount': 6599},\n",
       "   {'transaction-id': 65200, 'amount': 7722},\n",
       "   {'transaction-id': 65296, 'amount': 7694},\n",
       "   {'transaction-id': 65487, 'amount': 7771},\n",
       "   {'transaction-id': 65532, 'amount': 7513},\n",
       "   {'transaction-id': 65599, 'amount': 7298},\n",
       "   {'transaction-id': 65622, 'amount': 7283},\n",
       "   {'transaction-id': 65624, 'amount': 7881},\n",
       "   {'transaction-id': 65632, 'amount': 7940},\n",
       "   {'transaction-id': 65777, 'amount': 7577},\n",
       "   {'transaction-id': 65847, 'amount': 7260},\n",
       "   {'transaction-id': 66154, 'amount': 7425},\n",
       "   {'transaction-id': 66195, 'amount': 6621},\n",
       "   {'transaction-id': 66352, 'amount': 7778},\n",
       "   {'transaction-id': 66427, 'amount': 7720},\n",
       "   {'transaction-id': 66436, 'amount': 7539},\n",
       "   {'transaction-id': 66460, 'amount': 7363},\n",
       "   {'transaction-id': 66494, 'amount': 7990},\n",
       "   {'transaction-id': 66641, 'amount': 7654},\n",
       "   {'transaction-id': 66703, 'amount': 8050},\n",
       "   {'transaction-id': 66862, 'amount': 7799},\n",
       "   {'transaction-id': 66879, 'amount': 7159},\n",
       "   {'transaction-id': 66967, 'amount': 6503},\n",
       "   {'transaction-id': 67238, 'amount': 7401},\n",
       "   {'transaction-id': 67266, 'amount': 7110},\n",
       "   {'transaction-id': 67381, 'amount': 7410},\n",
       "   {'transaction-id': 67417, 'amount': 8387},\n",
       "   {'transaction-id': 67470, 'amount': 8007},\n",
       "   {'transaction-id': 67518, 'amount': 7818},\n",
       "   {'transaction-id': 67710, 'amount': 6593},\n",
       "   {'transaction-id': 67727, 'amount': 8013},\n",
       "   {'transaction-id': 67919, 'amount': 7852},\n",
       "   {'transaction-id': 67938, 'amount': 7111},\n",
       "   {'transaction-id': 67964, 'amount': 7138},\n",
       "   {'transaction-id': 68475, 'amount': 8184},\n",
       "   {'transaction-id': 68573, 'amount': 6596},\n",
       "   {'transaction-id': 68885, 'amount': 7723},\n",
       "   {'transaction-id': 69188, 'amount': 7953},\n",
       "   {'transaction-id': 69217, 'amount': 7799},\n",
       "   {'transaction-id': 69464, 'amount': 7569},\n",
       "   {'transaction-id': 69496, 'amount': 7712},\n",
       "   {'transaction-id': 69627, 'amount': 7419},\n",
       "   {'transaction-id': 69765, 'amount': 7344},\n",
       "   {'transaction-id': 69785, 'amount': 7414},\n",
       "   {'transaction-id': 69792, 'amount': 7254},\n",
       "   {'transaction-id': 69928, 'amount': 6873},\n",
       "   {'transaction-id': 69959, 'amount': 7241},\n",
       "   {'transaction-id': 70017, 'amount': 6764},\n",
       "   {'transaction-id': 70047, 'amount': 7225},\n",
       "   {'transaction-id': 70085, 'amount': 8204},\n",
       "   {'transaction-id': 70129, 'amount': 7623},\n",
       "   {'transaction-id': 70183, 'amount': 7047},\n",
       "   {'transaction-id': 70405, 'amount': 7773},\n",
       "   {'transaction-id': 70469, 'amount': 7732},\n",
       "   {'transaction-id': 70544, 'amount': 7907},\n",
       "   {'transaction-id': 71043, 'amount': 6835},\n",
       "   {'transaction-id': 71494, 'amount': 7015},\n",
       "   {'transaction-id': 71602, 'amount': 8453},\n",
       "   {'transaction-id': 71662, 'amount': 7211},\n",
       "   {'transaction-id': 71752, 'amount': 7763},\n",
       "   {'transaction-id': 71758, 'amount': 8524},\n",
       "   {'transaction-id': 71841, 'amount': 7119},\n",
       "   {'transaction-id': 72064, 'amount': 7446},\n",
       "   {'transaction-id': 72199, 'amount': 7206},\n",
       "   {'transaction-id': 72265, 'amount': 8034},\n",
       "   {'transaction-id': 72268, 'amount': 7519},\n",
       "   {'transaction-id': 72368, 'amount': 7916},\n",
       "   {'transaction-id': 72431, 'amount': 8109},\n",
       "   {'transaction-id': 72577, 'amount': 6724},\n",
       "   {'transaction-id': 72946, 'amount': 7447},\n",
       "   {'transaction-id': 73133, 'amount': 8419},\n",
       "   {'transaction-id': 73262, 'amount': 8035},\n",
       "   {'transaction-id': 73529, 'amount': 7380},\n",
       "   {'transaction-id': 73568, 'amount': 8101},\n",
       "   {'transaction-id': 73734, 'amount': 8927},\n",
       "   {'transaction-id': 73831, 'amount': 7370},\n",
       "   {'transaction-id': 73918, 'amount': 8030},\n",
       "   {'transaction-id': 74003, 'amount': 7894},\n",
       "   {'transaction-id': 74037, 'amount': 7426},\n",
       "   {'transaction-id': 74132, 'amount': 6593},\n",
       "   {'transaction-id': 74197, 'amount': 6992},\n",
       "   {'transaction-id': 74242, 'amount': 7236},\n",
       "   {'transaction-id': 74370, 'amount': 7481},\n",
       "   {'transaction-id': 74450, 'amount': 7752},\n",
       "   {'transaction-id': 74549, 'amount': 7292},\n",
       "   {'transaction-id': 74627, 'amount': 7000},\n",
       "   {'transaction-id': 74729, 'amount': 7870},\n",
       "   {'transaction-id': 74750, 'amount': 8409},\n",
       "   {'transaction-id': 74762, 'amount': 8236},\n",
       "   {'transaction-id': 74782, 'amount': 7801},\n",
       "   {'transaction-id': 74871, 'amount': 7548},\n",
       "   {'transaction-id': 74873, 'amount': 7808},\n",
       "   {'transaction-id': 74897, 'amount': 8132},\n",
       "   {'transaction-id': 75021, 'amount': 7763},\n",
       "   {'transaction-id': 75057, 'amount': 8624},\n",
       "   {'transaction-id': 75183, 'amount': 6584},\n",
       "   {'transaction-id': 75194, 'amount': 7301},\n",
       "   {'transaction-id': 75246, 'amount': 7384},\n",
       "   {'transaction-id': 75262, 'amount': 6976},\n",
       "   {'transaction-id': 75429, 'amount': 7364},\n",
       "   {'transaction-id': 75631, 'amount': 7071},\n",
       "   {'transaction-id': 75730, 'amount': 7533},\n",
       "   {'transaction-id': 76031, 'amount': 6804},\n",
       "   {'transaction-id': 76135, 'amount': 8066},\n",
       "   {'transaction-id': 76213, 'amount': 8116},\n",
       "   {'transaction-id': 76262, 'amount': 7631},\n",
       "   {'transaction-id': 76310, 'amount': 6824},\n",
       "   {'transaction-id': 76317, 'amount': 7961},\n",
       "   {'transaction-id': 76428, 'amount': 8376},\n",
       "   {'transaction-id': 76472, 'amount': 8082},\n",
       "   {'transaction-id': 76531, 'amount': 7389},\n",
       "   {'transaction-id': 76579, 'amount': 8458},\n",
       "   {'transaction-id': 76587, 'amount': 7662},\n",
       "   {'transaction-id': 76701, 'amount': 7669},\n",
       "   {'transaction-id': 76826, 'amount': 6299},\n",
       "   {'transaction-id': 76874, 'amount': 7858},\n",
       "   {'transaction-id': 76929, 'amount': 7828},\n",
       "   {'transaction-id': 77207, 'amount': 7399},\n",
       "   {'transaction-id': 77226, 'amount': 7718},\n",
       "   {'transaction-id': 77379, 'amount': 7594},\n",
       "   {'transaction-id': 77461, 'amount': 6500},\n",
       "   {'transaction-id': 77525, 'amount': 6970},\n",
       "   {'transaction-id': 77576, 'amount': 8033},\n",
       "   {'transaction-id': 77679, 'amount': 7259},\n",
       "   {'transaction-id': 77823, 'amount': 7570},\n",
       "   {'transaction-id': 77835, 'amount': 7563},\n",
       "   {'transaction-id': 77842, 'amount': 7473},\n",
       "   {'transaction-id': 78120, 'amount': 8487},\n",
       "   {'transaction-id': 78127, 'amount': 7214},\n",
       "   {'transaction-id': 78296, 'amount': 7543},\n",
       "   {'transaction-id': 78389, 'amount': 7077},\n",
       "   {'transaction-id': 78445, 'amount': 7662},\n",
       "   {'transaction-id': 78509, 'amount': 7309},\n",
       "   {'transaction-id': 78569, 'amount': 7953},\n",
       "   {'transaction-id': 78585, 'amount': 7579},\n",
       "   {'transaction-id': 78596, 'amount': 8348},\n",
       "   {'transaction-id': 78650, 'amount': 6923},\n",
       "   {'transaction-id': 78653, 'amount': 6772},\n",
       "   {'transaction-id': 78660, 'amount': 8161},\n",
       "   {'transaction-id': 78724, 'amount': 8591},\n",
       "   {'transaction-id': 78988, 'amount': 6716},\n",
       "   {'transaction-id': 79076, 'amount': 8122},\n",
       "   {'transaction-id': 79169, 'amount': 8133},\n",
       "   {'transaction-id': 79279, 'amount': 7819},\n",
       "   {'transaction-id': 79445, 'amount': 7839},\n",
       "   {'transaction-id': 79511, 'amount': 8102},\n",
       "   {'transaction-id': 79621, 'amount': 7790},\n",
       "   {'transaction-id': 79675, 'amount': 7152},\n",
       "   {'transaction-id': 80124, 'amount': 7880},\n",
       "   {'transaction-id': 80375, 'amount': 7265},\n",
       "   {'transaction-id': 80483, 'amount': 8085},\n",
       "   {'transaction-id': 80594, 'amount': 7665},\n",
       "   {'transaction-id': 80652, 'amount': 7555},\n",
       "   {'transaction-id': 80713, 'amount': 7526},\n",
       "   {'transaction-id': 80906, 'amount': 7598},\n",
       "   {'transaction-id': 80965, 'amount': 6935},\n",
       "   {'transaction-id': 81011, 'amount': 7285},\n",
       "   {'transaction-id': 81149, 'amount': 6942},\n",
       "   {'transaction-id': 81204, 'amount': 8358},\n",
       "   {'transaction-id': 81635, 'amount': 8387},\n",
       "   {'transaction-id': 81716, 'amount': 7744},\n",
       "   {'transaction-id': 81788, 'amount': 7730},\n",
       "   {'transaction-id': 81859, 'amount': 7693},\n",
       "   {'transaction-id': 82003, 'amount': 8088},\n",
       "   {'transaction-id': 82080, 'amount': 7514},\n",
       "   {'transaction-id': 82197, 'amount': 7794},\n",
       "   {'transaction-id': 82350, 'amount': 7549},\n",
       "   {'transaction-id': 82367, 'amount': 7324},\n",
       "   {'transaction-id': 82518, 'amount': 8166},\n",
       "   {'transaction-id': 82812, 'amount': 7813},\n",
       "   {'transaction-id': 82986, 'amount': 7577},\n",
       "   {'transaction-id': 83128, 'amount': 8226},\n",
       "   {'transaction-id': 83258, 'amount': 7565},\n",
       "   {'transaction-id': 83457, 'amount': 7291},\n",
       "   {'transaction-id': 83468, 'amount': 6651},\n",
       "   {'transaction-id': 83470, 'amount': 6713},\n",
       "   {'transaction-id': 83501, 'amount': 7622},\n",
       "   {'transaction-id': 83769, 'amount': 7261},\n",
       "   {'transaction-id': 83887, 'amount': 7640},\n",
       "   {'transaction-id': 83920, 'amount': 8498},\n",
       "   {'transaction-id': 83947, 'amount': 7230},\n",
       "   {'transaction-id': 84051, 'amount': 7500},\n",
       "   {'transaction-id': 84128, 'amount': 7503},\n",
       "   {'transaction-id': 84283, 'amount': 6942},\n",
       "   {'transaction-id': 84423, 'amount': 8593},\n",
       "   {'transaction-id': 84469, 'amount': 6791},\n",
       "   {'transaction-id': 84609, 'amount': 8354},\n",
       "   {'transaction-id': 84620, 'amount': 7888},\n",
       "   {'transaction-id': 84681, 'amount': 7100},\n",
       "   {'transaction-id': 84818, 'amount': 7541},\n",
       "   {'transaction-id': 84827, 'amount': 7641},\n",
       "   {'transaction-id': 84931, 'amount': 7789},\n",
       "   {'transaction-id': 85003, 'amount': 7832},\n",
       "   {'transaction-id': 85073, 'amount': 8186},\n",
       "   {'transaction-id': 85180, 'amount': 7596},\n",
       "   {'transaction-id': 85242, 'amount': 7394},\n",
       "   {'transaction-id': 85357, 'amount': 7532},\n",
       "   {'transaction-id': 85363, 'amount': 7784},\n",
       "   {'transaction-id': 85412, 'amount': 7938},\n",
       "   {'transaction-id': 85423, 'amount': 7787},\n",
       "   {'transaction-id': 85731, 'amount': 7627},\n",
       "   {'transaction-id': 85797, 'amount': 7089},\n",
       "   {'transaction-id': 85802, 'amount': 8230},\n",
       "   {'transaction-id': 85940, 'amount': 7561},\n",
       "   {'transaction-id': 86042, 'amount': 7173},\n",
       "   {'transaction-id': 86078, 'amount': 7062},\n",
       "   {'transaction-id': 86227, 'amount': 7546},\n",
       "   {'transaction-id': 86305, 'amount': 6971},\n",
       "   {'transaction-id': 86351, 'amount': 8360},\n",
       "   {'transaction-id': 86357, 'amount': 7777},\n",
       "   {'transaction-id': 86717, 'amount': 7244},\n",
       "   {'transaction-id': 86928, 'amount': 7833},\n",
       "   {'transaction-id': 86998, 'amount': 7808},\n",
       "   {'transaction-id': 87049, 'amount': 7464},\n",
       "   {'transaction-id': 87324, 'amount': 7810},\n",
       "   {'transaction-id': 87478, 'amount': 8301},\n",
       "   {'transaction-id': 87542, 'amount': 7915},\n",
       "   {'transaction-id': 87545, 'amount': 7216},\n",
       "   {'transaction-id': 87643, 'amount': 7520},\n",
       "   {'transaction-id': 87884, 'amount': 7729},\n",
       "   {'transaction-id': 88033, 'amount': 6690},\n",
       "   {'transaction-id': 88047, 'amount': 7073},\n",
       "   {'transaction-id': 88142, 'amount': 7591},\n",
       "   {'transaction-id': 88181, 'amount': 7785},\n",
       "   {'transaction-id': 88183, 'amount': 7708},\n",
       "   {'transaction-id': 88659, 'amount': 7303},\n",
       "   {'transaction-id': 88791, 'amount': 6988},\n",
       "   {'transaction-id': 88817, 'amount': 7773},\n",
       "   {'transaction-id': 88885, 'amount': 7276},\n",
       "   {'transaction-id': 88959, 'amount': 7955},\n",
       "   {'transaction-id': 88977, 'amount': 7238},\n",
       "   {'transaction-id': 89105, 'amount': 7370},\n",
       "   {'transaction-id': 89203, 'amount': 7722},\n",
       "   {'transaction-id': 89214, 'amount': 7536},\n",
       "   {'transaction-id': 89219, 'amount': 6797},\n",
       "   {'transaction-id': 89262, 'amount': 7557},\n",
       "   {'transaction-id': 89553, 'amount': 7833},\n",
       "   {'transaction-id': 89702, 'amount': 6889},\n",
       "   {'transaction-id': 89712, 'amount': 8086},\n",
       "   {'transaction-id': 89973, 'amount': 8317},\n",
       "   {'transaction-id': 90104, 'amount': 7590},\n",
       "   {'transaction-id': 90110, 'amount': 8099},\n",
       "   {'transaction-id': 90331, 'amount': 7845},\n",
       "   {'transaction-id': 90362, 'amount': 7189},\n",
       "   {'transaction-id': 90377, 'amount': 7847},\n",
       "   {'transaction-id': 90390, 'amount': 7752},\n",
       "   {'transaction-id': 90652, 'amount': 7078},\n",
       "   {'transaction-id': 90746, 'amount': 7689},\n",
       "   {'transaction-id': 90889, 'amount': 7637},\n",
       "   {'transaction-id': 90945, 'amount': 7438},\n",
       "   {'transaction-id': 91176, 'amount': 7704},\n",
       "   {'transaction-id': 91684, 'amount': 7338},\n",
       "   {'transaction-id': 92002, 'amount': 8310},\n",
       "   {'transaction-id': 92124, 'amount': 6631},\n",
       "   {'transaction-id': 92152, 'amount': 8171},\n",
       "   {'transaction-id': 92316, 'amount': 7320},\n",
       "   {'transaction-id': 92340, 'amount': 8192},\n",
       "   {'transaction-id': 92356, 'amount': 7703},\n",
       "   {'transaction-id': 92438, 'amount': 7743},\n",
       "   {'transaction-id': 92451, 'amount': 7877},\n",
       "   {'transaction-id': 92682, 'amount': 7892},\n",
       "   {'transaction-id': 92924, 'amount': 8407},\n",
       "   {'transaction-id': 93202, 'amount': 7721},\n",
       "   {'transaction-id': 93225, 'amount': 7508},\n",
       "   {'transaction-id': 93299, 'amount': 8457},\n",
       "   {'transaction-id': 93365, 'amount': 7526},\n",
       "   {'transaction-id': 93512, 'amount': 7576},\n",
       "   {'transaction-id': 93583, 'amount': 7920},\n",
       "   {'transaction-id': 93589, 'amount': 7897},\n",
       "   {'transaction-id': 93602, 'amount': 7619},\n",
       "   {'transaction-id': 93669, 'amount': 8666},\n",
       "   {'transaction-id': 93730, 'amount': 8253},\n",
       "   {'transaction-id': 93770, 'amount': 6937},\n",
       "   {'transaction-id': 93892, 'amount': 7610},\n",
       "   {'transaction-id': 94029, 'amount': 8004},\n",
       "   {'transaction-id': 94084, 'amount': 8019},\n",
       "   {'transaction-id': 94094, 'amount': 7740},\n",
       "   {'transaction-id': 94172, 'amount': 7673},\n",
       "   {'transaction-id': 94461, 'amount': 7401},\n",
       "   {'transaction-id': 94515, 'amount': 8051},\n",
       "   {'transaction-id': 94567, 'amount': 7360},\n",
       "   {'transaction-id': 94700, 'amount': 8115},\n",
       "   {'transaction-id': 94824, 'amount': 8013},\n",
       "   {'transaction-id': 94851, 'amount': 7963},\n",
       "   {'transaction-id': 94901, 'amount': 7037},\n",
       "   {'transaction-id': 95065, 'amount': 7600},\n",
       "   {'transaction-id': 95162, 'amount': 7235},\n",
       "   {'transaction-id': 95356, 'amount': 7520},\n",
       "   {'transaction-id': 95428, 'amount': 7238},\n",
       "   {'transaction-id': 95500, 'amount': 6846},\n",
       "   {'transaction-id': 95790, 'amount': 8091},\n",
       "   {'transaction-id': 95793, 'amount': 7984},\n",
       "   {'transaction-id': 95853, 'amount': 7013},\n",
       "   {'transaction-id': 95979, 'amount': 7270},\n",
       "   {'transaction-id': 96001, 'amount': 8155},\n",
       "   {'transaction-id': 96071, 'amount': 6769},\n",
       "   {'transaction-id': 96091, 'amount': 7469},\n",
       "   {'transaction-id': 96195, 'amount': 7213},\n",
       "   {'transaction-id': 96224, 'amount': 8181},\n",
       "   {'transaction-id': 96443, 'amount': 7116},\n",
       "   {'transaction-id': 96725, 'amount': 8578},\n",
       "   {'transaction-id': 96770, 'amount': 7097},\n",
       "   {'transaction-id': 96856, 'amount': 7480},\n",
       "   {'transaction-id': 97191, 'amount': 7811},\n",
       "   {'transaction-id': 97371, 'amount': 7290},\n",
       "   {'transaction-id': 97434, 'amount': 7809},\n",
       "   {'transaction-id': 97442, 'amount': 8034},\n",
       "   {'transaction-id': 97510, 'amount': 7460},\n",
       "   {'transaction-id': 97560, 'amount': 6787},\n",
       "   {'transaction-id': 97678, 'amount': 7083},\n",
       "   {'transaction-id': 97890, 'amount': 7391},\n",
       "   {'transaction-id': 97939, 'amount': 7386},\n",
       "   {'transaction-id': 97993, 'amount': 7120},\n",
       "   {'transaction-id': 98008, 'amount': 7550},\n",
       "   {'transaction-id': 98032, 'amount': 7383},\n",
       "   {'transaction-id': 98226, 'amount': 7842},\n",
       "   {'transaction-id': 98233, 'amount': 7569},\n",
       "   {'transaction-id': 98255, 'amount': 7385},\n",
       "   {'transaction-id': 98740, 'amount': 7666},\n",
       "   {'transaction-id': 98776, 'amount': 7454},\n",
       "   {'transaction-id': 98809, 'amount': 6843},\n",
       "   {'transaction-id': 98826, 'amount': 7844},\n",
       "   {'transaction-id': 98872, 'amount': 8021},\n",
       "   {'transaction-id': 98955, 'amount': 7427},\n",
       "   {'transaction-id': 99069, 'amount': 7682},\n",
       "   {'transaction-id': 99149, 'amount': 8233},\n",
       "   {'transaction-id': 99281, 'amount': 8212},\n",
       "   {'transaction-id': 99416, 'amount': 7636},\n",
       "   {'transaction-id': 99476, 'amount': 7830},\n",
       "   {'transaction-id': 99700, 'amount': 8139},\n",
       "   {'transaction-id': 99799, 'amount': 7776},\n",
       "   {'transaction-id': 99988, 'amount': 8134}]},)"
      ]
     },
     "execution_count": 16,
     "metadata": {},
     "output_type": "execute_result"
    }
   ],
   "source": [
    "# each element is a text file, where each line is a JSON object\n",
    "# note that the compression is handled automatically\n",
    "import os\n",
    "import json\n",
    "\n",
    "lines = db.read_text(os.path.join('data', 'accounts.*.json.gz'))\n",
    "js = lines.map(json.loads)\n",
    "# take: inspect first few elements\n",
    "js.take(1)"
   ]
  },
  {
   "cell_type": "markdown",
   "id": "dd43e807-85b6-4c68-86a2-3f4e06c93614",
   "metadata": {},
   "source": [
    "We will use the fake dataset we've created of gzipped JSON data in your data directory.  This is like the example used in the `DataFrame` example we will see later, except that it has bundled up all of the entries for each individual `id` into a single record.  This is similar to data that you might collect off of a document store database or a web API.\n",
    "\n",
    "Each line is a JSON encoded dictionary with the following keys\n",
    "\n",
    "*  id: Unique identifier of the customer\n",
    "*  name: Name of the customer\n",
    "*  transactions: List of `transaction-id`, `amount` pairs, one for each transaction for the customer in that file"
   ]
  },
  {
   "cell_type": "markdown",
   "id": "0fdc4aa2-e369-407f-863f-3ed4f1287cf4",
   "metadata": {},
   "source": [
    "Once we parse our JSON data into proper Python objects (`dict`s, `list`s, etc.) we can perform more interesting queries by creating small Python functions to run on our data."
   ]
  },
  {
   "cell_type": "code",
   "execution_count": 17,
   "id": "92659d62-fa14-4654-8933-4364d496e88c",
   "metadata": {
    "scrolled": true,
    "tags": []
   },
   "outputs": [
    {
     "data": {
      "text/plain": [
       "({'id': 37,\n",
       "  'name': 'Alice',\n",
       "  'transactions': [{'transaction-id': 472, 'amount': 174},\n",
       "   {'transaction-id': 1537, 'amount': 165},\n",
       "   {'transaction-id': 3208, 'amount': 172},\n",
       "   {'transaction-id': 3361, 'amount': 169},\n",
       "   {'transaction-id': 4212, 'amount': 174},\n",
       "   {'transaction-id': 4286, 'amount': 176},\n",
       "   {'transaction-id': 5901, 'amount': 178},\n",
       "   {'transaction-id': 7399, 'amount': 173},\n",
       "   {'transaction-id': 7714, 'amount': 163},\n",
       "   {'transaction-id': 9613, 'amount': 175},\n",
       "   {'transaction-id': 9758, 'amount': 169},\n",
       "   {'transaction-id': 10522, 'amount': 174},\n",
       "   {'transaction-id': 10983, 'amount': 175},\n",
       "   {'transaction-id': 11747, 'amount': 174},\n",
       "   {'transaction-id': 12210, 'amount': 170},\n",
       "   {'transaction-id': 12476, 'amount': 169},\n",
       "   {'transaction-id': 12542, 'amount': 179},\n",
       "   {'transaction-id': 13122, 'amount': 174},\n",
       "   {'transaction-id': 13867, 'amount': 175},\n",
       "   {'transaction-id': 14309, 'amount': 175},\n",
       "   {'transaction-id': 14981, 'amount': 167},\n",
       "   {'transaction-id': 15922, 'amount': 174},\n",
       "   {'transaction-id': 17648, 'amount': 176},\n",
       "   {'transaction-id': 17708, 'amount': 163},\n",
       "   {'transaction-id': 17861, 'amount': 162},\n",
       "   {'transaction-id': 18834, 'amount': 172},\n",
       "   {'transaction-id': 20338, 'amount': 170},\n",
       "   {'transaction-id': 20514, 'amount': 168},\n",
       "   {'transaction-id': 20559, 'amount': 170},\n",
       "   {'transaction-id': 20615, 'amount': 180},\n",
       "   {'transaction-id': 21382, 'amount': 178},\n",
       "   {'transaction-id': 21407, 'amount': 176},\n",
       "   {'transaction-id': 23068, 'amount': 160},\n",
       "   {'transaction-id': 24102, 'amount': 153},\n",
       "   {'transaction-id': 24349, 'amount': 171},\n",
       "   {'transaction-id': 24452, 'amount': 166},\n",
       "   {'transaction-id': 26280, 'amount': 174},\n",
       "   {'transaction-id': 27108, 'amount': 167},\n",
       "   {'transaction-id': 29223, 'amount': 167},\n",
       "   {'transaction-id': 29880, 'amount': 168},\n",
       "   {'transaction-id': 30076, 'amount': 161},\n",
       "   {'transaction-id': 30224, 'amount': 167},\n",
       "   {'transaction-id': 30744, 'amount': 169},\n",
       "   {'transaction-id': 31520, 'amount': 171},\n",
       "   {'transaction-id': 32323, 'amount': 168},\n",
       "   {'transaction-id': 32808, 'amount': 162},\n",
       "   {'transaction-id': 33004, 'amount': 167},\n",
       "   {'transaction-id': 33098, 'amount': 183},\n",
       "   {'transaction-id': 33375, 'amount': 189},\n",
       "   {'transaction-id': 34595, 'amount': 184},\n",
       "   {'transaction-id': 34620, 'amount': 162},\n",
       "   {'transaction-id': 35815, 'amount': 176},\n",
       "   {'transaction-id': 36184, 'amount': 160},\n",
       "   {'transaction-id': 39632, 'amount': 175},\n",
       "   {'transaction-id': 41195, 'amount': 166},\n",
       "   {'transaction-id': 42243, 'amount': 167},\n",
       "   {'transaction-id': 42804, 'amount': 169},\n",
       "   {'transaction-id': 43973, 'amount': 182},\n",
       "   {'transaction-id': 43977, 'amount': 150},\n",
       "   {'transaction-id': 44967, 'amount': 169},\n",
       "   {'transaction-id': 46193, 'amount': 168},\n",
       "   {'transaction-id': 46491, 'amount': 165},\n",
       "   {'transaction-id': 46570, 'amount': 159},\n",
       "   {'transaction-id': 47370, 'amount': 180},\n",
       "   {'transaction-id': 48375, 'amount': 176},\n",
       "   {'transaction-id': 49396, 'amount': 173},\n",
       "   {'transaction-id': 50392, 'amount': 167},\n",
       "   {'transaction-id': 50446, 'amount': 161},\n",
       "   {'transaction-id': 51503, 'amount': 176},\n",
       "   {'transaction-id': 52862, 'amount': 176},\n",
       "   {'transaction-id': 53984, 'amount': 167},\n",
       "   {'transaction-id': 54044, 'amount': 176},\n",
       "   {'transaction-id': 54644, 'amount': 163},\n",
       "   {'transaction-id': 54965, 'amount': 184},\n",
       "   {'transaction-id': 55056, 'amount': 159},\n",
       "   {'transaction-id': 56234, 'amount': 164},\n",
       "   {'transaction-id': 56405, 'amount': 157},\n",
       "   {'transaction-id': 56543, 'amount': 177},\n",
       "   {'transaction-id': 57118, 'amount': 162},\n",
       "   {'transaction-id': 58310, 'amount': 176},\n",
       "   {'transaction-id': 59869, 'amount': 155},\n",
       "   {'transaction-id': 60348, 'amount': 168},\n",
       "   {'transaction-id': 61209, 'amount': 175},\n",
       "   {'transaction-id': 64235, 'amount': 163},\n",
       "   {'transaction-id': 64449, 'amount': 157},\n",
       "   {'transaction-id': 64812, 'amount': 176},\n",
       "   {'transaction-id': 65180, 'amount': 170},\n",
       "   {'transaction-id': 65463, 'amount': 169},\n",
       "   {'transaction-id': 65817, 'amount': 170},\n",
       "   {'transaction-id': 66294, 'amount': 163},\n",
       "   {'transaction-id': 66592, 'amount': 172},\n",
       "   {'transaction-id': 66813, 'amount': 177},\n",
       "   {'transaction-id': 67342, 'amount': 165},\n",
       "   {'transaction-id': 67396, 'amount': 169},\n",
       "   {'transaction-id': 68399, 'amount': 177},\n",
       "   {'transaction-id': 68869, 'amount': 176},\n",
       "   {'transaction-id': 68954, 'amount': 182},\n",
       "   {'transaction-id': 70551, 'amount': 165},\n",
       "   {'transaction-id': 71604, 'amount': 172},\n",
       "   {'transaction-id': 71642, 'amount': 161},\n",
       "   {'transaction-id': 73008, 'amount': 180},\n",
       "   {'transaction-id': 75152, 'amount': 163},\n",
       "   {'transaction-id': 76329, 'amount': 175},\n",
       "   {'transaction-id': 78411, 'amount': 174},\n",
       "   {'transaction-id': 78648, 'amount': 167},\n",
       "   {'transaction-id': 78649, 'amount': 162},\n",
       "   {'transaction-id': 79141, 'amount': 176},\n",
       "   {'transaction-id': 79602, 'amount': 159},\n",
       "   {'transaction-id': 81040, 'amount': 164},\n",
       "   {'transaction-id': 83144, 'amount': 165},\n",
       "   {'transaction-id': 83686, 'amount': 182},\n",
       "   {'transaction-id': 84308, 'amount': 172},\n",
       "   {'transaction-id': 84885, 'amount': 172},\n",
       "   {'transaction-id': 85978, 'amount': 169},\n",
       "   {'transaction-id': 86072, 'amount': 168},\n",
       "   {'transaction-id': 86365, 'amount': 172},\n",
       "   {'transaction-id': 88089, 'amount': 170},\n",
       "   {'transaction-id': 88101, 'amount': 176},\n",
       "   {'transaction-id': 89540, 'amount': 175},\n",
       "   {'transaction-id': 89541, 'amount': 172},\n",
       "   {'transaction-id': 90596, 'amount': 171},\n",
       "   {'transaction-id': 90735, 'amount': 177},\n",
       "   {'transaction-id': 91017, 'amount': 162},\n",
       "   {'transaction-id': 91598, 'amount': 176},\n",
       "   {'transaction-id': 92868, 'amount': 178},\n",
       "   {'transaction-id': 93641, 'amount': 164},\n",
       "   {'transaction-id': 93817, 'amount': 169},\n",
       "   {'transaction-id': 94392, 'amount': 162},\n",
       "   {'transaction-id': 94806, 'amount': 176},\n",
       "   {'transaction-id': 96840, 'amount': 167},\n",
       "   {'transaction-id': 97512, 'amount': 168},\n",
       "   {'transaction-id': 97919, 'amount': 168},\n",
       "   {'transaction-id': 98202, 'amount': 172},\n",
       "   {'transaction-id': 99952, 'amount': 165}]},)"
      ]
     },
     "execution_count": 17,
     "metadata": {},
     "output_type": "execute_result"
    }
   ],
   "source": [
    "# filter: keep only some elements of the sequence\n",
    "js.filter(lambda record: record['name'] == 'Alice').take(1)"
   ]
  },
  {
   "cell_type": "code",
   "execution_count": 18,
   "id": "6ce2e3e1-d2a8-490b-8547-af5306fe0bc4",
   "metadata": {},
   "outputs": [
    {
     "data": {
      "text/plain": [
       "({'name': 'Alice', 'count': 134},\n",
       " {'name': 'Alice', 'count': 319},\n",
       " {'name': 'Alice', 'count': 220},\n",
       " {'name': 'Alice', 'count': 18},\n",
       " {'name': 'Alice', 'count': 136})"
      ]
     },
     "execution_count": 18,
     "metadata": {},
     "output_type": "execute_result"
    }
   ],
   "source": [
    "def count_transactions(d):\n",
    "    return {'name': d['name'], 'count': len(d['transactions'])}\n",
    "\n",
    "# map: apply a function to each element\n",
    "(js.filter(lambda record: record['name'] == 'Alice')\n",
    "   .map(count_transactions)\n",
    "   .take(5))"
   ]
  },
  {
   "cell_type": "code",
   "execution_count": 19,
   "id": "11f74049-c8de-4e8b-9b12-ed5dcc53f80d",
   "metadata": {},
   "outputs": [
    {
     "data": {
      "text/plain": [
       "(134, 319, 220, 18, 136)"
      ]
     },
     "execution_count": 19,
     "metadata": {},
     "output_type": "execute_result"
    }
   ],
   "source": [
    "# pluck: select a field, as from a dictionary, element[field]\n",
    "(js.filter(lambda record: record['name'] == 'Alice')\n",
    "   .map(count_transactions)\n",
    "   .pluck('count')\n",
    "   .take(5))"
   ]
  },
  {
   "cell_type": "code",
   "execution_count": 20,
   "id": "5515e689-0fb9-41d2-8dc0-a94328734e13",
   "metadata": {},
   "outputs": [
    {
     "data": {
      "text/plain": [
       "204.026"
      ]
     },
     "execution_count": 20,
     "metadata": {},
     "output_type": "execute_result"
    }
   ],
   "source": [
    "# Average number of transactions for all of the Alice entries\n",
    "(js.filter(lambda record: record['name'] == 'Alice')\n",
    "   .map(count_transactions)\n",
    "   .pluck('count')\n",
    "   .mean()\n",
    "   .compute())"
   ]
  },
  {
   "cell_type": "code",
   "execution_count": 21,
   "id": "d627183e-4e71-4632-96ec-c2c2a09e8627",
   "metadata": {},
   "outputs": [],
   "source": [
    "client.shutdown()"
   ]
  },
  {
   "cell_type": "markdown",
   "id": "94d42dae-e477-4fb3-a1de-dc0ec8efb3ff",
   "metadata": {},
   "source": [
    "# Arrays: analogous to Numpy Arrays\n",
    "\n",
    "<img src=\"assets/dask-array.png\" width=\"50%\">\n",
    "\n",
    "Dask array provides a parallel, larger-than-memory, n-dimensional array using blocked algorithms. Simply put: distributed Numpy.\n",
    "\n",
    "*  **Parallel**: Uses all of the cores on your computer\n",
    "*  **Larger-than-memory**:  Lets you work on datasets that are larger than your available memory by breaking up your array into many small pieces, operating on those pieces in an order that minimizes the memory footprint of your computation, and effectively streaming data from disk.\n",
    "*  **Blocked Algorithms**:  Perform large computations by performing many smaller computations\n",
    "\n",
    "Here, we'll build some understanding by implementing some blocked algorithms from scratch.\n",
    "We'll then use Dask Array to analyze large datasets, in parallel, using a familiar NumPy-like API.\n",
    "\n",
    "**Related Documentation**\n",
    "\n",
    "* [Array documentation](https://docs.dask.org/en/latest/array.html)\n",
    "* [Array screencast](https://youtu.be/9h_61hXCDuI)\n",
    "* [Array API](https://docs.dask.org/en/latest/array-api.html)\n",
    "* [Array examples](https://examples.dask.org/array.html)"
   ]
  },
  {
   "cell_type": "markdown",
   "id": "586a2c6a-1b42-4178-89d8-d3cc6ba4ce31",
   "metadata": {},
   "source": [
    "### Create Data"
   ]
  },
  {
   "cell_type": "code",
   "execution_count": 22,
   "id": "35a90d12-b422-497a-be8c-af52bcbb690e",
   "metadata": {},
   "outputs": [
    {
     "name": "stderr",
     "output_type": "stream",
     "text": [
      "distributed.client - ERROR - Failed to reconnect to scheduler after 10.00 seconds, closing client\n",
      "_GatheringFuture exception was never retrieved\n",
      "future: <_GatheringFuture finished exception=CancelledError()>\n",
      "asyncio.exceptions.CancelledError\n"
     ]
    },
    {
     "name": "stdout",
     "output_type": "stream",
     "text": [
      "Created random data for array exercise in 19.81s\n"
     ]
    }
   ],
   "source": [
    "%run prep.py -d random"
   ]
  },
  {
   "cell_type": "code",
   "execution_count": 23,
   "id": "159384fe-861e-47c0-bd06-8c69aeea9092",
   "metadata": {},
   "outputs": [],
   "source": [
    "from dask.distributed import Client\n",
    "\n",
    "client = Client(n_workers=4)"
   ]
  },
  {
   "cell_type": "markdown",
   "id": "70209b0c-65c4-4ebe-b921-3253aaf36e55",
   "metadata": {},
   "source": [
    "### Blocked Algorithms\n",
    "\n",
    "A *blocked algorithm* executes on a large dataset by breaking it up into many small blocks.\n",
    "\n",
    "For example, consider taking the sum of a billion numbers.  We might instead break up the array into 1,000 chunks, each of size 1,000,000, take the sum of each chunk, and then take the sum of the intermediate sums.\n",
    "\n",
    "We achieve the intended result (one sum on one billion numbers) by performing many smaller results (one thousand sums on one million numbers each, followed by another sum of a thousand numbers.)\n",
    "\n",
    "We do exactly this with Python and NumPy in the following example:"
   ]
  },
  {
   "cell_type": "code",
   "execution_count": 24,
   "id": "48068ce6-0623-4cbd-acfd-1fb699a6f69c",
   "metadata": {},
   "outputs": [],
   "source": [
    "# Load data with h5py\n",
    "# this creates a pointer to the data, but does not actually load\n",
    "import h5py\n",
    "import os\n",
    "f = h5py.File(os.path.join('data', 'random.hdf5'), mode='r')\n",
    "dset = f['/x']"
   ]
  },
  {
   "cell_type": "markdown",
   "id": "490e8bd7-e5e5-4f15-ad68-f8fb0ad343b8",
   "metadata": {},
   "source": [
    "#### Compute Sum Using Blocked Algorithm\n",
    "\n",
    "Before using dask, let's consider the concept of blocked algorithms. We can compute the sum of a large number of elements by loading them chunk-by-chunk, and keeping a running total.\n",
    "\n",
    "Here we compute the sum of this large array on disk by \n",
    "\n",
    "1.  Computing the sum of each 1,000,000 sized chunk of the array\n",
    "2.  Computing the sum of the 1,000 intermediate sums\n",
    "\n",
    "Note that this is a sequential process in the notebook kernel, both the loading and summing."
   ]
  },
  {
   "cell_type": "code",
   "execution_count": 25,
   "id": "63cd3105-4ca8-4580-ba4d-131fb943b084",
   "metadata": {},
   "outputs": [
    {
     "name": "stdout",
     "output_type": "stream",
     "text": [
      "CPU times: user 883 ms, sys: 1 s, total: 1.89 s\n",
      "Wall time: 1.95 s\n"
     ]
    },
    {
     "data": {
      "text/plain": [
       "1000010204.0625"
      ]
     },
     "execution_count": 25,
     "metadata": {},
     "output_type": "execute_result"
    }
   ],
   "source": [
    "%%time\n",
    "\n",
    "# Compute sum of large array, one million numbers at a time\n",
    "sums = []\n",
    "for i in range(0, 1_000_000_000, 1_000_000):\n",
    "    chunk = dset[i: i + 1_000_000]  # pull out numpy array\n",
    "    sums.append(chunk.sum())\n",
    "\n",
    "total = sum(sums)\n",
    "total"
   ]
  },
  {
   "cell_type": "markdown",
   "id": "381d53ab-1ccf-4aa0-92fe-f936d35d611c",
   "metadata": {},
   "source": [
    "#### Compute Mean Using Blocked Algorithm\n",
    "\n",
    "Now that we've seen the simple example above, try doing a slightly more complicated problem. Compute the mean of the array, assuming for a moment that we don't happen to already know how many elements are in the data.  You can do this by changing the code above with the following alterations:\n",
    "\n",
    "1.  Compute the sum of each block\n",
    "2.  Compute the length of each block\n",
    "3.  Compute the sum of the 1,000 intermediate sums and the sum of the 1,000 intermediate lengths and divide one by the other\n",
    "\n",
    "This approach is overkill for our case but does nicely generalize if we don't know the size of the array or individual blocks beforehand."
   ]
  },
  {
   "cell_type": "code",
   "execution_count": 26,
   "id": "624756f5-b659-4a73-bceb-d926a9e85b80",
   "metadata": {},
   "outputs": [
    {
     "name": "stdout",
     "output_type": "stream",
     "text": [
      "CPU times: user 683 ms, sys: 535 ms, total: 1.22 s\n",
      "Wall time: 1.19 s\n"
     ]
    },
    {
     "data": {
      "text/plain": [
       "1.0000102040625"
      ]
     },
     "execution_count": 26,
     "metadata": {},
     "output_type": "execute_result"
    }
   ],
   "source": [
    "%%time\n",
    "\n",
    "sums = []\n",
    "lengths = []\n",
    "for i in range(0, 1_000_000_000, 1_000_000):\n",
    "    chunk = dset[i: i + 1_000_000]  # pull out numpy array\n",
    "    sums.append(chunk.sum())\n",
    "    lengths.append(len(chunk))\n",
    "\n",
    "total = sum(sums)\n",
    "length = sum(lengths)\n",
    "total / length"
   ]
  },
  {
   "cell_type": "markdown",
   "id": "fbba0393-3709-452a-937c-0cb7e5827ced",
   "metadata": {},
   "source": [
    "### `dask.array` contains these algorithms\n",
    "\n",
    "Dask.array is a NumPy-like library that does these kinds of tricks to operate on large datasets that don't fit into memory.  It extends beyond the linear problems discussed above to full N-Dimensional algorithms and a decent subset of the NumPy interface.\n",
    "\n",
    "You can create a `dask.array` `Array` object with the `da.from_array` function.  This function accepts\n",
    "\n",
    "1.  `data`: Any object that supports NumPy slicing, like `dset`\n",
    "2.  `chunks`: A chunk size to tell us how to block up our array, like `(1_000_000,)`"
   ]
  },
  {
   "cell_type": "code",
   "execution_count": 27,
   "id": "466020a0-5d79-411f-948d-86f2d2db59fd",
   "metadata": {},
   "outputs": [
    {
     "data": {
      "text/html": [
       "<table>\n",
       "<tr>\n",
       "<td>\n",
       "<table>\n",
       "  <thead>\n",
       "    <tr><td> </td><th> Array </th><th> Chunk </th></tr>\n",
       "  </thead>\n",
       "  <tbody>\n",
       "    <tr><th> Bytes </th><td> 3.73 GiB </td> <td> 3.81 MiB </td></tr>\n",
       "    <tr><th> Shape </th><td> (1000000000,) </td> <td> (1000000,) </td></tr>\n",
       "    <tr><th> Count </th><td> 1001 Tasks </td><td> 1000 Chunks </td></tr>\n",
       "    <tr><th> Type </th><td> float32 </td><td> numpy.ndarray </td></tr>\n",
       "  </tbody>\n",
       "</table>\n",
       "</td>\n",
       "<td>\n",
       "<svg width=\"170\" height=\"75\" style=\"stroke:rgb(0,0,0);stroke-width:1\" >\n",
       "\n",
       "  <!-- Horizontal lines -->\n",
       "  <line x1=\"0\" y1=\"0\" x2=\"120\" y2=\"0\" style=\"stroke-width:2\" />\n",
       "  <line x1=\"0\" y1=\"25\" x2=\"120\" y2=\"25\" style=\"stroke-width:2\" />\n",
       "\n",
       "  <!-- Vertical lines -->\n",
       "  <line x1=\"0\" y1=\"0\" x2=\"0\" y2=\"25\" style=\"stroke-width:2\" />\n",
       "  <line x1=\"6\" y1=\"0\" x2=\"6\" y2=\"25\" />\n",
       "  <line x1=\"12\" y1=\"0\" x2=\"12\" y2=\"25\" />\n",
       "  <line x1=\"18\" y1=\"0\" x2=\"18\" y2=\"25\" />\n",
       "  <line x1=\"25\" y1=\"0\" x2=\"25\" y2=\"25\" />\n",
       "  <line x1=\"31\" y1=\"0\" x2=\"31\" y2=\"25\" />\n",
       "  <line x1=\"37\" y1=\"0\" x2=\"37\" y2=\"25\" />\n",
       "  <line x1=\"44\" y1=\"0\" x2=\"44\" y2=\"25\" />\n",
       "  <line x1=\"50\" y1=\"0\" x2=\"50\" y2=\"25\" />\n",
       "  <line x1=\"56\" y1=\"0\" x2=\"56\" y2=\"25\" />\n",
       "  <line x1=\"63\" y1=\"0\" x2=\"63\" y2=\"25\" />\n",
       "  <line x1=\"69\" y1=\"0\" x2=\"69\" y2=\"25\" />\n",
       "  <line x1=\"75\" y1=\"0\" x2=\"75\" y2=\"25\" />\n",
       "  <line x1=\"82\" y1=\"0\" x2=\"82\" y2=\"25\" />\n",
       "  <line x1=\"88\" y1=\"0\" x2=\"88\" y2=\"25\" />\n",
       "  <line x1=\"94\" y1=\"0\" x2=\"94\" y2=\"25\" />\n",
       "  <line x1=\"101\" y1=\"0\" x2=\"101\" y2=\"25\" />\n",
       "  <line x1=\"107\" y1=\"0\" x2=\"107\" y2=\"25\" />\n",
       "  <line x1=\"113\" y1=\"0\" x2=\"113\" y2=\"25\" />\n",
       "  <line x1=\"120\" y1=\"0\" x2=\"120\" y2=\"25\" style=\"stroke-width:2\" />\n",
       "\n",
       "  <!-- Colored Rectangle -->\n",
       "  <polygon points=\"0.0,0.0 120.0,0.0 120.0,25.412616514582485 0.0,25.412616514582485\" style=\"fill:#8B4903A0;stroke-width:0\"/>\n",
       "\n",
       "  <!-- Text -->\n",
       "  <text x=\"60.000000\" y=\"45.412617\" font-size=\"1.0rem\" font-weight=\"100\" text-anchor=\"middle\" >1000000000</text>\n",
       "  <text x=\"140.000000\" y=\"12.706308\" font-size=\"1.0rem\" font-weight=\"100\" text-anchor=\"middle\" transform=\"rotate(0,140.000000,12.706308)\">1</text>\n",
       "</svg>\n",
       "</td>\n",
       "</tr>\n",
       "</table>"
      ],
      "text/plain": [
       "dask.array<array, shape=(1000000000,), dtype=float32, chunksize=(1000000,), chunktype=numpy.ndarray>"
      ]
     },
     "execution_count": 27,
     "metadata": {},
     "output_type": "execute_result"
    }
   ],
   "source": [
    "import dask.array as da\n",
    "x = da.from_array(dset, chunks=(1_000_000,))\n",
    "x"
   ]
  },
  {
   "cell_type": "markdown",
   "id": "37e12bf0-7b72-467b-b7bf-9dd9e3ad2620",
   "metadata": {},
   "source": [
    "Now that we have an `Array` we perform standard numpy-style computations like arithmetic, mathematics, slicing, reductions, etc..\n",
    "\n",
    "The interface is familiar, but the actual work is different. `dask_array.sum()` does not do the same thing as `numpy_array.sum()`."
   ]
  },
  {
   "cell_type": "code",
   "execution_count": 28,
   "id": "512ddf0f-9ae0-40a6-b0db-6cf7842ff507",
   "metadata": {},
   "outputs": [
    {
     "name": "stdout",
     "output_type": "stream",
     "text": [
      "CPU times: user 2.96 s, sys: 113 ms, total: 3.07 s\n",
      "Wall time: 5.46 s\n"
     ]
    },
    {
     "data": {
      "text/plain": [
       "1000010200.0"
      ]
     },
     "execution_count": 28,
     "metadata": {},
     "output_type": "execute_result"
    }
   ],
   "source": [
    "%%time \n",
    "\n",
    "result = x.sum()\n",
    "result.compute()"
   ]
  },
  {
   "cell_type": "code",
   "execution_count": 29,
   "id": "1b343430-a6ab-41bc-80f5-ba1923de17cf",
   "metadata": {},
   "outputs": [
    {
     "name": "stdout",
     "output_type": "stream",
     "text": [
      "CPU times: user 1.84 s, sys: 61.5 ms, total: 1.9 s\n",
      "Wall time: 3.03 s\n"
     ]
    },
    {
     "data": {
      "text/plain": [
       "1.0000101"
      ]
     },
     "execution_count": 29,
     "metadata": {},
     "output_type": "execute_result"
    }
   ],
   "source": [
    "%%time \n",
    "\n",
    "result = x.mean()\n",
    "result.compute()"
   ]
  },
  {
   "cell_type": "markdown",
   "id": "3c23e531-8135-4207-b7cd-2f5c53e22ba6",
   "metadata": {},
   "source": [
    "### Performance and Parallelism\n",
    "\n",
    "<img src=\"assets/fail-case.gif\" width=\"40%\" align=\"right\">\n",
    "\n",
    "In our first examples we used `for` loops to walk through the array one block at a time.  For simple operations like `sum` this is optimal.  However for complex operations we may want to traverse through the array differently.  In particular we may want the following:\n",
    "\n",
    "1.  Use multiple cores in parallel\n",
    "2.  Chain operations on a single blocks before moving on to the next one\n",
    "\n",
    "`Dask.array` translates your array operations into a graph of inter-related tasks with data dependencies between them. Dask then executes this graph in parallel with multiple threads.\n",
    "\n"
   ]
  },
  {
   "cell_type": "markdown",
   "id": "74cf728f-ff75-4fca-8c3f-417313db22a5",
   "metadata": {},
   "source": [
    "#### Example\n",
    "\n",
    "1.  Construct a 20000x20000 array of normally distributed random values broken up into 1000x1000 sized chunks\n",
    "2.  Take the mean along one axis\n",
    "3.  Take every 100th element"
   ]
  },
  {
   "cell_type": "code",
   "execution_count": 30,
   "id": "ddce129d-0a5d-44b7-bad6-238cd3f8ec24",
   "metadata": {},
   "outputs": [],
   "source": [
    "import numpy as np\n",
    "import dask.array as da\n",
    "\n",
    "x = da.random.normal(10, 0.1, size=(20000, 20000),   # 400 million element array \n",
    "                              chunks=(1000, 1000))   # Cut into 1000x1000 sized chunks\n",
    "y = x.mean(axis=0)[::100]                            # Perform NumPy-style operations"
   ]
  },
  {
   "cell_type": "code",
   "execution_count": 31,
   "id": "dabd7be0-743b-4b21-8f6e-16ade8e77cc8",
   "metadata": {},
   "outputs": [
    {
     "data": {
      "text/plain": [
       "3.2"
      ]
     },
     "execution_count": 31,
     "metadata": {},
     "output_type": "execute_result"
    }
   ],
   "source": [
    "x.nbytes / 1e9  # Gigabytes of the input processed lazily"
   ]
  },
  {
   "cell_type": "code",
   "execution_count": 32,
   "id": "131974cc-1035-4e0a-91f6-ca4aa7980e66",
   "metadata": {},
   "outputs": [
    {
     "name": "stdout",
     "output_type": "stream",
     "text": [
      "CPU times: user 1.13 s, sys: 38.2 ms, total: 1.17 s\n",
      "Wall time: 1.34 s\n"
     ]
    },
    {
     "data": {
      "text/plain": [
       "array([ 9.9995448 ,  9.99996055,  9.99898756,  9.99894536,  9.99971163,\n",
       "       10.00014634, 10.00023615,  9.99867533, 10.00057959, 10.00013251,\n",
       "        9.99877735,  9.99975823, 10.00035141, 10.00111201, 10.00095824,\n",
       "       10.0001436 ,  9.9992607 , 10.00019998,  9.99918585, 10.00027708,\n",
       "       10.0014034 ,  9.99993418, 10.00058631, 10.00008997,  9.999656  ,\n",
       "        9.99987386, 10.00010253,  9.99960963,  9.99961663,  9.99964701,\n",
       "       10.00105797,  9.9991494 ,  9.99966805, 10.00022704,  9.99976607,\n",
       "        9.99990729,  9.99876798,  9.99987097, 10.00015794, 10.00062863,\n",
       "       10.00023233, 10.00006062,  9.99959999,  9.99951237, 10.00006846,\n",
       "       10.00013044,  9.99994292, 10.00057899,  9.99995689, 10.00047121,\n",
       "       10.00000773,  9.99892913, 10.00047937,  9.99994692, 10.00043925,\n",
       "       10.00017603,  9.99968372, 10.00024172,  9.9992128 , 10.00068941,\n",
       "        9.99938285,  9.99959026, 10.00016617, 10.00125664,  9.99942822,\n",
       "        9.99973289, 10.00048579,  9.99980449, 10.00017378, 10.00018803,\n",
       "        9.99982612, 10.00011156, 10.0003825 ,  9.99974018, 10.00042776,\n",
       "        9.99923848, 10.00078315, 10.00021434,  9.99912496,  9.99980412,\n",
       "       10.00145747,  9.99945282, 10.00111557,  9.99965383,  9.9994168 ,\n",
       "        9.99962983,  9.99829098,  9.9991091 , 10.00023444,  9.99961168,\n",
       "       10.00111302,  9.99984671,  9.99997567,  9.99974406,  9.99850961,\n",
       "        9.99993162, 10.00142668, 10.00049849,  9.99940278, 10.000666  ,\n",
       "       10.00004627,  9.99998838, 10.00110967, 10.00041693, 10.0009037 ,\n",
       "        9.9994393 , 10.00005653,  9.99885879,  9.99958346,  9.99981265,\n",
       "       10.00032571,  9.99956745,  9.99957837,  9.99983736, 10.00027929,\n",
       "       10.00011384, 10.00056338, 10.0003938 , 10.00112545,  9.99977495,\n",
       "       10.00010663, 10.00062939, 10.00093876,  9.99980097,  9.99941842,\n",
       "        9.99942856, 10.00081627,  9.99981516, 10.00092848, 10.00085166,\n",
       "       10.0002889 , 10.00017003,  9.99916245, 10.00099707, 10.00009261,\n",
       "       10.00016014,  9.99975552, 10.00007985, 10.00012469, 10.00122204,\n",
       "        9.99976303, 10.00103567, 10.00024406, 10.00026369,  9.99888962,\n",
       "       10.00001441, 10.00034358, 10.00015895, 10.00146557,  9.99947387,\n",
       "        9.99906356,  9.99960949, 10.00054188,  9.99859927,  9.99903953,\n",
       "       10.00031349, 10.00086996, 10.0003289 , 10.00020636,  9.99894613,\n",
       "        9.99921386, 10.00151932,  9.99979472,  9.9991016 , 10.00062258,\n",
       "       10.00046631,  9.99986447,  9.9994954 ,  9.99961436, 10.00064818,\n",
       "        9.99892503,  9.99964759, 10.00027975, 10.00129814, 10.00018721,\n",
       "        9.99878972, 10.00014764,  9.9994935 ,  9.99994014, 10.00103056,\n",
       "       10.00024078, 10.00143084, 10.00029025,  9.99954135, 10.00027938,\n",
       "       10.00113807, 10.00055951, 10.00069637, 10.00136242,  9.99971921,\n",
       "       10.00014468,  9.99945525,  9.99994246, 10.00071985, 10.00088819,\n",
       "        9.99962296, 10.00131722,  9.99979625,  9.99996547, 10.00024176])"
      ]
     },
     "execution_count": 32,
     "metadata": {},
     "output_type": "execute_result"
    }
   ],
   "source": [
    "%%time\n",
    "\n",
    "y.compute()     # Time to compute the result"
   ]
  },
  {
   "cell_type": "markdown",
   "id": "79b59faa-7362-4e99-a3ad-d1325233f49b",
   "metadata": {},
   "source": [
    "#### NumPy: 19s, Needs gigabytes of memory\n",
    "\n",
    "```python\n",
    "import numpy as np\n",
    "\n",
    "%%time \n",
    "x = np.random.normal(10, 0.1, size=(20000, 20000)) \n",
    "y = x.mean(axis=0)[::100] \n",
    "y\n",
    "\n",
    "CPU times: user 19.6 s, sys: 160 ms, total: 19.8 s\n",
    "Wall time: 19.7 s\n",
    "```\n",
    "\n",
    "#### Dask Array: 4s, Needs megabytes of memory\n",
    "\n",
    "```python\n",
    "import dask.array as da\n",
    "\n",
    "%%time\n",
    "x = da.random.normal(10, 0.1, size=(20000, 20000), chunks=(1000, 1000))\n",
    "y = x.mean(axis=0)[::100] \n",
    "y.compute() \n",
    "\n",
    "CPU times: user 29.4 s, sys: 1.07 s, total: 30.5 s\n",
    "Wall time: 4.01 s\n",
    "```"
   ]
  },
  {
   "cell_type": "code",
   "execution_count": 33,
   "id": "e3e27094-881f-49eb-be51-9cf8e93d7f5d",
   "metadata": {},
   "outputs": [],
   "source": [
    "client.shutdown()"
   ]
  },
  {
   "cell_type": "markdown",
   "id": "3de2c22c-af15-4334-91ef-d094507ac256",
   "metadata": {},
   "source": [
    "# Dataframes: analagous to Pandas DataFrames\n",
    "\n",
    "<img src=\"assets/dask-dataframe.png\" width=\"50%\">\n",
    "\n",
    "In this section we use `dask.dataframe` to automatically build parallel dataframe computations over a directory of CSV files, for the common case of tabular computations.  Dask dataframes look and feel like Pandas dataframes but they run on the same infrastructure that powers `dask.delayed`.\n",
    "\n",
    "Here, we'll create airline data, and we'll let `dask.dataframe` construct our computations for us.  The `dask.dataframe.read_csv` function can take a globstring like `\"data/nycflights/*.csv\"` and build parallel computations on all of our data at once.\n",
    "\n",
    "### When to use `dask.dataframe`\n",
    "\n",
    "Pandas is great for tabular datasets that fit in memory. Dask becomes useful when the dataset you want to analyze is larger than your machine's RAM. The demo dataset we're working with is only about 200MB, so that you can download it in a reasonable time, but `dask.dataframe` will scale to  datasets much larger than memory."
   ]
  },
  {
   "cell_type": "markdown",
   "id": "6aa02279-2735-41ed-863b-51d3b99dc2c4",
   "metadata": {},
   "source": [
    "<img src=\"assets/pandas_logo.png\" align=\"right\" width=\"28%\">\n",
    "\n",
    "The `dask.dataframe` module implements a blocked parallel `DataFrame` object that mimics a large subset of the Pandas `DataFrame` API. One Dask `DataFrame` is comprised of many in-memory pandas `DataFrames` separated along the index. One operation on a Dask `DataFrame` triggers many pandas operations on the constituent pandas `DataFrame`s in a way that is mindful of potential parallelism and memory constraints.\n",
    "\n",
    "**Related Documentation**\n",
    "\n",
    "* [DataFrame documentation](https://docs.dask.org/en/latest/dataframe.html)\n",
    "* [DataFrame screencast](https://youtu.be/AT2XtFehFSQ)\n",
    "* [DataFrame API](https://docs.dask.org/en/latest/dataframe-api.html)\n",
    "* [DataFrame examples](https://examples.dask.org/dataframe.html)\n",
    "* [Pandas documentation](https://pandas.pydata.org/pandas-docs/stable/)\n",
    "\n",
    "**Main Take-aways**\n",
    "\n",
    "1.  Dask DataFrame should be familiar to Pandas users\n",
    "2.  The partitioning of dataframes is important for efficient execution"
   ]
  },
  {
   "cell_type": "markdown",
   "id": "9e6b9b16-e764-45c9-b47c-a67ac4cddf46",
   "metadata": {},
   "source": [
    "### Create Data"
   ]
  },
  {
   "cell_type": "code",
   "execution_count": 34,
   "id": "44fab43f-bfd9-4fa9-942c-2b225f3c2552",
   "metadata": {},
   "outputs": [
    {
     "name": "stdout",
     "output_type": "stream",
     "text": [
      "- Downloading NYC Flights dataset... "
     ]
    },
    {
     "name": "stderr",
     "output_type": "stream",
     "text": [
      "distributed.client - ERROR - Failed to reconnect to scheduler after 10.00 seconds, closing client\n",
      "_GatheringFuture exception was never retrieved\n",
      "future: <_GatheringFuture finished exception=CancelledError()>\n",
      "asyncio.exceptions.CancelledError\n"
     ]
    },
    {
     "name": "stdout",
     "output_type": "stream",
     "text": [
      "done\n",
      "- Extracting flight data... done\n",
      "- Creating json data... done\n",
      "** Created flights dataset! in 18.56s**\n"
     ]
    }
   ],
   "source": [
    "%run prep.py -d flights"
   ]
  },
  {
   "cell_type": "code",
   "execution_count": 35,
   "id": "d4b9b0e4-6ffc-431a-ab67-7ab9eaa8edb9",
   "metadata": {},
   "outputs": [],
   "source": [
    "from dask.distributed import Client\n",
    "\n",
    "client = Client(n_workers=4)"
   ]
  },
  {
   "cell_type": "markdown",
   "id": "0f6a2b75-350f-4078-af5d-b21f91690eb1",
   "metadata": {},
   "source": [
    "### Reading and Viewing Dask DataFrames\n",
    "\n",
    "Let's try to analyze an extract of flights in the USA across several years. This data is specific to flights out of the three airports in the New York City area."
   ]
  },
  {
   "cell_type": "code",
   "execution_count": 36,
   "id": "7f5b5994-82ed-467a-9413-97b7499a4d79",
   "metadata": {},
   "outputs": [
    {
     "data": {
      "text/html": [
       "<div><strong>Dask DataFrame Structure:</strong></div>\n",
       "<div>\n",
       "<style scoped>\n",
       "    .dataframe tbody tr th:only-of-type {\n",
       "        vertical-align: middle;\n",
       "    }\n",
       "\n",
       "    .dataframe tbody tr th {\n",
       "        vertical-align: top;\n",
       "    }\n",
       "\n",
       "    .dataframe thead th {\n",
       "        text-align: right;\n",
       "    }\n",
       "</style>\n",
       "<table border=\"1\" class=\"dataframe\">\n",
       "  <thead>\n",
       "    <tr style=\"text-align: right;\">\n",
       "      <th></th>\n",
       "      <th>Date</th>\n",
       "      <th>DayOfWeek</th>\n",
       "      <th>DepTime</th>\n",
       "      <th>CRSDepTime</th>\n",
       "      <th>ArrTime</th>\n",
       "      <th>CRSArrTime</th>\n",
       "      <th>UniqueCarrier</th>\n",
       "      <th>FlightNum</th>\n",
       "      <th>TailNum</th>\n",
       "      <th>ActualElapsedTime</th>\n",
       "      <th>CRSElapsedTime</th>\n",
       "      <th>AirTime</th>\n",
       "      <th>ArrDelay</th>\n",
       "      <th>DepDelay</th>\n",
       "      <th>Origin</th>\n",
       "      <th>Dest</th>\n",
       "      <th>Distance</th>\n",
       "      <th>TaxiIn</th>\n",
       "      <th>TaxiOut</th>\n",
       "      <th>Cancelled</th>\n",
       "      <th>Diverted</th>\n",
       "    </tr>\n",
       "    <tr>\n",
       "      <th>npartitions=10</th>\n",
       "      <th></th>\n",
       "      <th></th>\n",
       "      <th></th>\n",
       "      <th></th>\n",
       "      <th></th>\n",
       "      <th></th>\n",
       "      <th></th>\n",
       "      <th></th>\n",
       "      <th></th>\n",
       "      <th></th>\n",
       "      <th></th>\n",
       "      <th></th>\n",
       "      <th></th>\n",
       "      <th></th>\n",
       "      <th></th>\n",
       "      <th></th>\n",
       "      <th></th>\n",
       "      <th></th>\n",
       "      <th></th>\n",
       "      <th></th>\n",
       "      <th></th>\n",
       "    </tr>\n",
       "  </thead>\n",
       "  <tbody>\n",
       "    <tr>\n",
       "      <th></th>\n",
       "      <td>datetime64[ns]</td>\n",
       "      <td>int64</td>\n",
       "      <td>float64</td>\n",
       "      <td>int64</td>\n",
       "      <td>float64</td>\n",
       "      <td>int64</td>\n",
       "      <td>object</td>\n",
       "      <td>int64</td>\n",
       "      <td>object</td>\n",
       "      <td>float64</td>\n",
       "      <td>float64</td>\n",
       "      <td>float64</td>\n",
       "      <td>float64</td>\n",
       "      <td>float64</td>\n",
       "      <td>object</td>\n",
       "      <td>object</td>\n",
       "      <td>float64</td>\n",
       "      <td>float64</td>\n",
       "      <td>float64</td>\n",
       "      <td>bool</td>\n",
       "      <td>int64</td>\n",
       "    </tr>\n",
       "    <tr>\n",
       "      <th></th>\n",
       "      <td>...</td>\n",
       "      <td>...</td>\n",
       "      <td>...</td>\n",
       "      <td>...</td>\n",
       "      <td>...</td>\n",
       "      <td>...</td>\n",
       "      <td>...</td>\n",
       "      <td>...</td>\n",
       "      <td>...</td>\n",
       "      <td>...</td>\n",
       "      <td>...</td>\n",
       "      <td>...</td>\n",
       "      <td>...</td>\n",
       "      <td>...</td>\n",
       "      <td>...</td>\n",
       "      <td>...</td>\n",
       "      <td>...</td>\n",
       "      <td>...</td>\n",
       "      <td>...</td>\n",
       "      <td>...</td>\n",
       "      <td>...</td>\n",
       "    </tr>\n",
       "    <tr>\n",
       "      <th>...</th>\n",
       "      <td>...</td>\n",
       "      <td>...</td>\n",
       "      <td>...</td>\n",
       "      <td>...</td>\n",
       "      <td>...</td>\n",
       "      <td>...</td>\n",
       "      <td>...</td>\n",
       "      <td>...</td>\n",
       "      <td>...</td>\n",
       "      <td>...</td>\n",
       "      <td>...</td>\n",
       "      <td>...</td>\n",
       "      <td>...</td>\n",
       "      <td>...</td>\n",
       "      <td>...</td>\n",
       "      <td>...</td>\n",
       "      <td>...</td>\n",
       "      <td>...</td>\n",
       "      <td>...</td>\n",
       "      <td>...</td>\n",
       "      <td>...</td>\n",
       "    </tr>\n",
       "    <tr>\n",
       "      <th></th>\n",
       "      <td>...</td>\n",
       "      <td>...</td>\n",
       "      <td>...</td>\n",
       "      <td>...</td>\n",
       "      <td>...</td>\n",
       "      <td>...</td>\n",
       "      <td>...</td>\n",
       "      <td>...</td>\n",
       "      <td>...</td>\n",
       "      <td>...</td>\n",
       "      <td>...</td>\n",
       "      <td>...</td>\n",
       "      <td>...</td>\n",
       "      <td>...</td>\n",
       "      <td>...</td>\n",
       "      <td>...</td>\n",
       "      <td>...</td>\n",
       "      <td>...</td>\n",
       "      <td>...</td>\n",
       "      <td>...</td>\n",
       "      <td>...</td>\n",
       "    </tr>\n",
       "    <tr>\n",
       "      <th></th>\n",
       "      <td>...</td>\n",
       "      <td>...</td>\n",
       "      <td>...</td>\n",
       "      <td>...</td>\n",
       "      <td>...</td>\n",
       "      <td>...</td>\n",
       "      <td>...</td>\n",
       "      <td>...</td>\n",
       "      <td>...</td>\n",
       "      <td>...</td>\n",
       "      <td>...</td>\n",
       "      <td>...</td>\n",
       "      <td>...</td>\n",
       "      <td>...</td>\n",
       "      <td>...</td>\n",
       "      <td>...</td>\n",
       "      <td>...</td>\n",
       "      <td>...</td>\n",
       "      <td>...</td>\n",
       "      <td>...</td>\n",
       "      <td>...</td>\n",
       "    </tr>\n",
       "  </tbody>\n",
       "</table>\n",
       "</div>\n",
       "<div>Dask Name: read-csv, 10 tasks</div>"
      ],
      "text/plain": [
       "Dask DataFrame Structure:\n",
       "                          Date DayOfWeek  DepTime CRSDepTime  ArrTime CRSArrTime UniqueCarrier FlightNum TailNum ActualElapsedTime CRSElapsedTime  AirTime ArrDelay DepDelay  Origin    Dest Distance   TaxiIn  TaxiOut Cancelled Diverted\n",
       "npartitions=10                                                                                                                                                                                                                            \n",
       "                datetime64[ns]     int64  float64      int64  float64      int64        object     int64  object           float64        float64  float64  float64  float64  object  object  float64  float64  float64      bool    int64\n",
       "                           ...       ...      ...        ...      ...        ...           ...       ...     ...               ...            ...      ...      ...      ...     ...     ...      ...      ...      ...       ...      ...\n",
       "...                        ...       ...      ...        ...      ...        ...           ...       ...     ...               ...            ...      ...      ...      ...     ...     ...      ...      ...      ...       ...      ...\n",
       "                           ...       ...      ...        ...      ...        ...           ...       ...     ...               ...            ...      ...      ...      ...     ...     ...      ...      ...      ...       ...      ...\n",
       "                           ...       ...      ...        ...      ...        ...           ...       ...     ...               ...            ...      ...      ...      ...     ...     ...      ...      ...      ...       ...      ...\n",
       "Dask Name: read-csv, 10 tasks"
      ]
     },
     "execution_count": 36,
     "metadata": {},
     "output_type": "execute_result"
    }
   ],
   "source": [
    "import dask.dataframe as dd\n",
    "\n",
    "df = dd.read_csv(os.path.join('data', 'nycflights', '*.csv'),\n",
    "                 parse_dates={'Date': [0, 1, 2]},\n",
    "                 dtype={'TailNum': str,\n",
    "                        'CRSElapsedTime': float,\n",
    "                        'Cancelled': bool})\n",
    "df"
   ]
  },
  {
   "cell_type": "code",
   "execution_count": 37,
   "id": "be742463-3065-4da7-aafa-0ea884682f2a",
   "metadata": {},
   "outputs": [
    {
     "data": {
      "text/html": [
       "<div>\n",
       "<style scoped>\n",
       "    .dataframe tbody tr th:only-of-type {\n",
       "        vertical-align: middle;\n",
       "    }\n",
       "\n",
       "    .dataframe tbody tr th {\n",
       "        vertical-align: top;\n",
       "    }\n",
       "\n",
       "    .dataframe thead th {\n",
       "        text-align: right;\n",
       "    }\n",
       "</style>\n",
       "<table border=\"1\" class=\"dataframe\">\n",
       "  <thead>\n",
       "    <tr style=\"text-align: right;\">\n",
       "      <th></th>\n",
       "      <th>Date</th>\n",
       "      <th>DayOfWeek</th>\n",
       "      <th>DepTime</th>\n",
       "      <th>CRSDepTime</th>\n",
       "      <th>ArrTime</th>\n",
       "      <th>CRSArrTime</th>\n",
       "      <th>UniqueCarrier</th>\n",
       "      <th>FlightNum</th>\n",
       "      <th>TailNum</th>\n",
       "      <th>ActualElapsedTime</th>\n",
       "      <th>...</th>\n",
       "      <th>AirTime</th>\n",
       "      <th>ArrDelay</th>\n",
       "      <th>DepDelay</th>\n",
       "      <th>Origin</th>\n",
       "      <th>Dest</th>\n",
       "      <th>Distance</th>\n",
       "      <th>TaxiIn</th>\n",
       "      <th>TaxiOut</th>\n",
       "      <th>Cancelled</th>\n",
       "      <th>Diverted</th>\n",
       "    </tr>\n",
       "  </thead>\n",
       "  <tbody>\n",
       "    <tr>\n",
       "      <th>0</th>\n",
       "      <td>1990-01-01</td>\n",
       "      <td>1</td>\n",
       "      <td>1621.0</td>\n",
       "      <td>1540</td>\n",
       "      <td>1747.0</td>\n",
       "      <td>1701</td>\n",
       "      <td>US</td>\n",
       "      <td>33</td>\n",
       "      <td>NaN</td>\n",
       "      <td>86.0</td>\n",
       "      <td>...</td>\n",
       "      <td>NaN</td>\n",
       "      <td>46.0</td>\n",
       "      <td>41.0</td>\n",
       "      <td>EWR</td>\n",
       "      <td>PIT</td>\n",
       "      <td>319.0</td>\n",
       "      <td>NaN</td>\n",
       "      <td>NaN</td>\n",
       "      <td>False</td>\n",
       "      <td>0</td>\n",
       "    </tr>\n",
       "    <tr>\n",
       "      <th>1</th>\n",
       "      <td>1990-01-02</td>\n",
       "      <td>2</td>\n",
       "      <td>1547.0</td>\n",
       "      <td>1540</td>\n",
       "      <td>1700.0</td>\n",
       "      <td>1701</td>\n",
       "      <td>US</td>\n",
       "      <td>33</td>\n",
       "      <td>NaN</td>\n",
       "      <td>73.0</td>\n",
       "      <td>...</td>\n",
       "      <td>NaN</td>\n",
       "      <td>-1.0</td>\n",
       "      <td>7.0</td>\n",
       "      <td>EWR</td>\n",
       "      <td>PIT</td>\n",
       "      <td>319.0</td>\n",
       "      <td>NaN</td>\n",
       "      <td>NaN</td>\n",
       "      <td>False</td>\n",
       "      <td>0</td>\n",
       "    </tr>\n",
       "    <tr>\n",
       "      <th>2</th>\n",
       "      <td>1990-01-03</td>\n",
       "      <td>3</td>\n",
       "      <td>1546.0</td>\n",
       "      <td>1540</td>\n",
       "      <td>1710.0</td>\n",
       "      <td>1701</td>\n",
       "      <td>US</td>\n",
       "      <td>33</td>\n",
       "      <td>NaN</td>\n",
       "      <td>84.0</td>\n",
       "      <td>...</td>\n",
       "      <td>NaN</td>\n",
       "      <td>9.0</td>\n",
       "      <td>6.0</td>\n",
       "      <td>EWR</td>\n",
       "      <td>PIT</td>\n",
       "      <td>319.0</td>\n",
       "      <td>NaN</td>\n",
       "      <td>NaN</td>\n",
       "      <td>False</td>\n",
       "      <td>0</td>\n",
       "    </tr>\n",
       "    <tr>\n",
       "      <th>3</th>\n",
       "      <td>1990-01-04</td>\n",
       "      <td>4</td>\n",
       "      <td>1542.0</td>\n",
       "      <td>1540</td>\n",
       "      <td>1710.0</td>\n",
       "      <td>1701</td>\n",
       "      <td>US</td>\n",
       "      <td>33</td>\n",
       "      <td>NaN</td>\n",
       "      <td>88.0</td>\n",
       "      <td>...</td>\n",
       "      <td>NaN</td>\n",
       "      <td>9.0</td>\n",
       "      <td>2.0</td>\n",
       "      <td>EWR</td>\n",
       "      <td>PIT</td>\n",
       "      <td>319.0</td>\n",
       "      <td>NaN</td>\n",
       "      <td>NaN</td>\n",
       "      <td>False</td>\n",
       "      <td>0</td>\n",
       "    </tr>\n",
       "    <tr>\n",
       "      <th>4</th>\n",
       "      <td>1990-01-05</td>\n",
       "      <td>5</td>\n",
       "      <td>1549.0</td>\n",
       "      <td>1540</td>\n",
       "      <td>1706.0</td>\n",
       "      <td>1701</td>\n",
       "      <td>US</td>\n",
       "      <td>33</td>\n",
       "      <td>NaN</td>\n",
       "      <td>77.0</td>\n",
       "      <td>...</td>\n",
       "      <td>NaN</td>\n",
       "      <td>5.0</td>\n",
       "      <td>9.0</td>\n",
       "      <td>EWR</td>\n",
       "      <td>PIT</td>\n",
       "      <td>319.0</td>\n",
       "      <td>NaN</td>\n",
       "      <td>NaN</td>\n",
       "      <td>False</td>\n",
       "      <td>0</td>\n",
       "    </tr>\n",
       "  </tbody>\n",
       "</table>\n",
       "<p>5 rows × 21 columns</p>\n",
       "</div>"
      ],
      "text/plain": [
       "        Date  DayOfWeek  DepTime  CRSDepTime  ArrTime  CRSArrTime  \\\n",
       "0 1990-01-01          1   1621.0        1540   1747.0        1701   \n",
       "1 1990-01-02          2   1547.0        1540   1700.0        1701   \n",
       "2 1990-01-03          3   1546.0        1540   1710.0        1701   \n",
       "3 1990-01-04          4   1542.0        1540   1710.0        1701   \n",
       "4 1990-01-05          5   1549.0        1540   1706.0        1701   \n",
       "\n",
       "  UniqueCarrier  FlightNum TailNum  ActualElapsedTime  ...  AirTime  ArrDelay  \\\n",
       "0            US         33     NaN               86.0  ...      NaN      46.0   \n",
       "1            US         33     NaN               73.0  ...      NaN      -1.0   \n",
       "2            US         33     NaN               84.0  ...      NaN       9.0   \n",
       "3            US         33     NaN               88.0  ...      NaN       9.0   \n",
       "4            US         33     NaN               77.0  ...      NaN       5.0   \n",
       "\n",
       "   DepDelay  Origin Dest Distance  TaxiIn  TaxiOut  Cancelled  Diverted  \n",
       "0      41.0     EWR  PIT    319.0     NaN      NaN      False         0  \n",
       "1       7.0     EWR  PIT    319.0     NaN      NaN      False         0  \n",
       "2       6.0     EWR  PIT    319.0     NaN      NaN      False         0  \n",
       "3       2.0     EWR  PIT    319.0     NaN      NaN      False         0  \n",
       "4       9.0     EWR  PIT    319.0     NaN      NaN      False         0  \n",
       "\n",
       "[5 rows x 21 columns]"
      ]
     },
     "execution_count": 37,
     "metadata": {},
     "output_type": "execute_result"
    }
   ],
   "source": [
    "df.head()"
   ]
  },
  {
   "cell_type": "markdown",
   "id": "88453d9f-f358-4a4c-9e86-09aab6a66acb",
   "metadata": {},
   "source": [
    "### Computations with `dask.dataframe`\n",
    "\n",
    "We compute the maximum of the `DepDelay` column. With just pandas, we would loop over each file to find the individual maximums, then find the final maximum over all the individual maximums\n",
    "\n",
    "```python\n",
    "maxes = []\n",
    "for fn in filenames:\n",
    "    df = pd.read_csv(fn)\n",
    "    maxes.append(df.DepDelay.max())\n",
    "    \n",
    "final_max = max(maxes)\n",
    "```\n",
    "\n",
    "We could wrap that `pd.read_csv` with `dask.delayed` so that it runs in parallel. Regardless, we're still having to think about loops, intermediate results (one per file) and the final reduction (`max` of the intermediate maxes). This is just noise around the real task, which pandas solves with\n",
    "\n",
    "```python\n",
    "df = pd.read_csv(filename, dtype=dtype)\n",
    "df.DepDelay.max()\n",
    "```\n",
    "\n",
    "`dask.dataframe` lets us write pandas-like code, that operates on larger than memory datasets in parallel."
   ]
  },
  {
   "cell_type": "code",
   "execution_count": 38,
   "id": "b1435054-91d9-4b67-a470-4c392f409101",
   "metadata": {},
   "outputs": [
    {
     "name": "stdout",
     "output_type": "stream",
     "text": [
      "CPU times: user 1.76 s, sys: 70.8 ms, total: 1.83 s\n",
      "Wall time: 4.4 s\n"
     ]
    },
    {
     "data": {
      "text/plain": [
       "1435.0"
      ]
     },
     "execution_count": 38,
     "metadata": {},
     "output_type": "execute_result"
    }
   ],
   "source": [
    "%%time \n",
    "\n",
    "df['DepDelay'].max().compute()"
   ]
  },
  {
   "cell_type": "code",
   "execution_count": 39,
   "id": "ad454526-4662-4ca0-a5c2-b3bb9e83e1a0",
   "metadata": {},
   "outputs": [
    {
     "name": "stdout",
     "output_type": "stream",
     "text": [
      "CPU times: user 767 ms, sys: 32.4 ms, total: 800 ms\n",
      "Wall time: 1.64 s\n"
     ]
    },
    {
     "data": {
      "text/plain": [
       "Origin\n",
       "EWR    10.295469\n",
       "JFK    10.351299\n",
       "LGA     7.431142\n",
       "Name: DepDelay, dtype: float64"
      ]
     },
     "execution_count": 39,
     "metadata": {},
     "output_type": "execute_result"
    }
   ],
   "source": [
    "%%time \n",
    "\n",
    "df.groupby('Origin')['DepDelay'].mean().compute()"
   ]
  },
  {
   "cell_type": "code",
   "execution_count": 40,
   "id": "94610249-ec2d-47a3-b695-28d3e2770875",
   "metadata": {},
   "outputs": [],
   "source": [
    "client.shutdown()"
   ]
  },
  {
   "cell_type": "markdown",
   "id": "b478db19-9df5-4588-9470-d26600b7ce3f",
   "metadata": {},
   "source": [
    "# Futures interface\n",
    "\n",
    "The Dask distributed scheduler implements a superset of Python's [`concurrent.futures`](https://docs.python.org/3/library/concurrent.futures.html) interface that allows for finer control and asynchronous computation."
   ]
  },
  {
   "cell_type": "code",
   "execution_count": 41,
   "id": "46cb5d57-a0ba-4c84-b044-325dae9d49b8",
   "metadata": {},
   "outputs": [
    {
     "data": {
      "text/html": [
       "<table style=\"border: 2px solid white;\">\n",
       "<tr>\n",
       "<td style=\"vertical-align: top; border: 0px solid white\">\n",
       "<h3 style=\"text-align: left;\">Client</h3>\n",
       "<ul style=\"text-align: left; list-style: none; margin: 0; padding: 0;\">\n",
       "  <li><b>Scheduler: </b>tcp://127.0.0.1:62595</li>\n",
       "  <li><b>Dashboard: </b><a href='http://127.0.0.1:8787/status' target='_blank'>http://127.0.0.1:8787/status</a></li>\n",
       "</ul>\n",
       "</td>\n",
       "<td style=\"vertical-align: top; border: 0px solid white\">\n",
       "<h3 style=\"text-align: left;\">Cluster</h3>\n",
       "<ul style=\"text-align: left; list-style:none; margin: 0; padding: 0;\">\n",
       "  <li><b>Workers: </b>4</li>\n",
       "  <li><b>Cores: </b>16</li>\n",
       "  <li><b>Memory: </b>16.00 GiB</li>\n",
       "</ul>\n",
       "</td>\n",
       "</tr>\n",
       "</table>"
      ],
      "text/plain": [
       "<Client: 'tcp://127.0.0.1:62595' processes=4 threads=16, memory=16.00 GiB>"
      ]
     },
     "execution_count": 41,
     "metadata": {},
     "output_type": "execute_result"
    },
    {
     "name": "stderr",
     "output_type": "stream",
     "text": [
      "distributed.client - ERROR - Failed to reconnect to scheduler after 10.00 seconds, closing client\n",
      "_GatheringFuture exception was never retrieved\n",
      "future: <_GatheringFuture finished exception=CancelledError()>\n",
      "asyncio.exceptions.CancelledError\n"
     ]
    }
   ],
   "source": [
    "from dask.distributed import Client\n",
    "\n",
    "client = Client(n_workers=4)\n",
    "client"
   ]
  },
  {
   "cell_type": "code",
   "execution_count": 42,
   "id": "8bc1791e-43d8-48e3-8717-f168cc9944ea",
   "metadata": {},
   "outputs": [],
   "source": [
    "import time\n",
    "import random\n",
    "\n",
    "def inc(x):\n",
    "    time.sleep(random.random())\n",
    "    return x + 1\n",
    "\n",
    "def double(x):\n",
    "    time.sleep(random.random())\n",
    "    return 2 * x\n",
    "    \n",
    "def add(x, y):\n",
    "    time.sleep(random.random())\n",
    "    return x + y "
   ]
  },
  {
   "cell_type": "markdown",
   "id": "ec3da8f0-70f8-4339-a1ee-cabfb1ad0dd4",
   "metadata": {},
   "source": [
    "We can run these functions locally"
   ]
  },
  {
   "cell_type": "code",
   "execution_count": 43,
   "id": "581aab70-c0ad-406b-a656-cf903b35ac4f",
   "metadata": {},
   "outputs": [
    {
     "data": {
      "text/plain": [
       "2"
      ]
     },
     "execution_count": 43,
     "metadata": {},
     "output_type": "execute_result"
    }
   ],
   "source": [
    "inc(1)"
   ]
  },
  {
   "cell_type": "markdown",
   "id": "9fd7af10-a0da-4713-806f-147dace34f8a",
   "metadata": {},
   "source": [
    "Or we can submit them to run remotely on a Dask worker node"
   ]
  },
  {
   "cell_type": "code",
   "execution_count": 44,
   "id": "60a9be06-537c-462d-85f4-1e3847a53cff",
   "metadata": {},
   "outputs": [
    {
     "data": {
      "text/html": [
       "<b>Future: inc</b> <font color=\"gray\">status: </font><font color=\"black\">pending</font>, <font color=\"gray\">key: </font>inc-8e0a31564998e7d9ef3ab85b18ffa1c3"
      ],
      "text/plain": [
       "<Future: pending, key: inc-8e0a31564998e7d9ef3ab85b18ffa1c3>"
      ]
     },
     "execution_count": 44,
     "metadata": {},
     "output_type": "execute_result"
    }
   ],
   "source": [
    "future = client.submit(inc, 1)\n",
    "future"
   ]
  },
  {
   "cell_type": "markdown",
   "id": "c5b3b60a-3bbf-4f83-a5ee-6efa2fcf0273",
   "metadata": {},
   "source": [
    "The `submit` function sends a function and arguments to the distributed scheduler for processing. It returns a `Future` object that refer to remote data on the cluster. The `Future` returns immediately while the computations run remotely in the background. There is no blocking of the local Python session.\n",
    "\n",
    "If you wait a moment, and then check on the future again, you'll see that it has finished."
   ]
  },
  {
   "cell_type": "code",
   "execution_count": 45,
   "id": "ca5816bc-03ed-4625-8576-db805bbdd824",
   "metadata": {},
   "outputs": [
    {
     "data": {
      "text/html": [
       "<b>Future: inc</b> <font color=\"gray\">status: </font><font color=\"black\">finished</font>, <font color=\"gray\">type: </font>builtins.int, <font color=\"gray\">key: </font>inc-8e0a31564998e7d9ef3ab85b18ffa1c3"
      ],
      "text/plain": [
       "<Future: finished, type: builtins.int, key: inc-8e0a31564998e7d9ef3ab85b18ffa1c3>"
      ]
     },
     "execution_count": 45,
     "metadata": {},
     "output_type": "execute_result"
    }
   ],
   "source": [
    "future"
   ]
  },
  {
   "cell_type": "markdown",
   "id": "0135a363-df2a-490b-baf0-4f30e0baeab7",
   "metadata": {},
   "source": [
    "Once the computation for a `Future` is complete, you can retrieve the result using the `.result()` method"
   ]
  },
  {
   "cell_type": "code",
   "execution_count": 46,
   "id": "450b2f6f-ec57-490b-9ea2-bab9fe1c1115",
   "metadata": {},
   "outputs": [
    {
     "data": {
      "text/plain": [
       "2"
      ]
     },
     "execution_count": 46,
     "metadata": {},
     "output_type": "execute_result"
    }
   ],
   "source": [
    "future.result()"
   ]
  },
  {
   "cell_type": "markdown",
   "id": "bd4b5045-fa34-47cd-b47f-be05e22406bf",
   "metadata": {},
   "source": [
    "### Specifying task dependencies\n",
    "\n",
    "Much like the `delayed` interface, we can submit tasks based on other futures. This will create a dependency between the inputs and outputs. Dask will track the execution of all tasks and ensure that downstream tasks are run at the proper time and place and with the proper data."
   ]
  },
  {
   "cell_type": "code",
   "execution_count": 47,
   "id": "2c3b63f9-9062-4fbb-b827-10c57c0d2c84",
   "metadata": {},
   "outputs": [
    {
     "data": {
      "text/html": [
       "<b>Future: add</b> <font color=\"gray\">status: </font><font color=\"black\">pending</font>, <font color=\"gray\">key: </font>add-f90c64be930e9620aeacd6fca2b9a5d6"
      ],
      "text/plain": [
       "<Future: pending, key: add-f90c64be930e9620aeacd6fca2b9a5d6>"
      ]
     },
     "execution_count": 47,
     "metadata": {},
     "output_type": "execute_result"
    }
   ],
   "source": [
    "x = client.submit(inc, 1)\n",
    "y = client.submit(double, 2)\n",
    "z = client.submit(add, x, y)\n",
    "z"
   ]
  },
  {
   "cell_type": "code",
   "execution_count": 48,
   "id": "6b79e47f-5e1b-4ff0-aa1a-47bc084c992c",
   "metadata": {},
   "outputs": [
    {
     "data": {
      "text/plain": [
       "6"
      ]
     },
     "execution_count": 48,
     "metadata": {},
     "output_type": "execute_result"
    }
   ],
   "source": [
    "z.result()"
   ]
  },
  {
   "cell_type": "markdown",
   "id": "ee28e621-d6bb-45eb-986d-0881a2e44822",
   "metadata": {},
   "source": [
    "As an example, we can submit many tasks that depend on each other in a `for`-loop"
   ]
  },
  {
   "cell_type": "code",
   "execution_count": 49,
   "id": "ce9ee845-3fd4-41f5-be6e-fa11250a8318",
   "metadata": {},
   "outputs": [
    {
     "name": "stdout",
     "output_type": "stream",
     "text": [
      "CPU times: user 97.4 ms, sys: 7.25 ms, total: 105 ms\n",
      "Wall time: 100 ms\n"
     ]
    }
   ],
   "source": [
    "%%time\n",
    "\n",
    "zs = []\n",
    "\n",
    "for i in range(64):\n",
    "    x = client.submit(inc, i)     # x = inc(i)\n",
    "    y = client.submit(double, x)  # y = inc(x)\n",
    "    z = client.submit(add, x, y)  # z = inc(y)\n",
    "    zs.append(z)\n",
    "\n",
    "total = client.submit(sum, zs)"
   ]
  },
  {
   "cell_type": "code",
   "execution_count": 51,
   "id": "b583c90d-d0ce-4e79-9132-8a322322494d",
   "metadata": {},
   "outputs": [
    {
     "data": {
      "text/html": [
       "<b>Future: sum</b> <font color=\"gray\">status: </font><font color=\"black\">finished</font>, <font color=\"gray\">type: </font>builtins.int, <font color=\"gray\">key: </font>sum-9963cdfa333d82f2e4a90f4fac4df0d1"
      ],
      "text/plain": [
       "<Future: finished, type: builtins.int, key: sum-9963cdfa333d82f2e4a90f4fac4df0d1>"
      ]
     },
     "execution_count": 51,
     "metadata": {},
     "output_type": "execute_result"
    }
   ],
   "source": [
    "total"
   ]
  },
  {
   "cell_type": "code",
   "execution_count": 52,
   "id": "dbc4a11e-a90f-4272-ae8e-a5b6343ab5c8",
   "metadata": {},
   "outputs": [
    {
     "data": {
      "text/plain": [
       "6240"
      ]
     },
     "execution_count": 52,
     "metadata": {},
     "output_type": "execute_result"
    }
   ],
   "source": [
    "total.result()"
   ]
  },
  {
   "cell_type": "code",
   "execution_count": null,
   "id": "9649cb92-ad88-41cf-822d-f0207a99ecae",
   "metadata": {},
   "outputs": [],
   "source": [
    "client.shutdown()"
   ]
  }
 ],
 "metadata": {
  "kernelspec": {
   "display_name": "Python 3",
   "language": "python",
   "name": "python3"
  },
  "language_info": {
   "codemirror_mode": {
    "name": "ipython",
    "version": 3
   },
   "file_extension": ".py",
   "mimetype": "text/x-python",
   "name": "python",
   "nbconvert_exporter": "python",
   "pygments_lexer": "ipython3",
   "version": "3.9.4"
  }
 },
 "nbformat": 4,
 "nbformat_minor": 5
}
